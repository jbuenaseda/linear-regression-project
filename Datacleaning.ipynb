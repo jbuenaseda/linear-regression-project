{
 "cells": [
  {
   "cell_type": "code",
   "execution_count": 1,
   "metadata": {},
   "outputs": [
    {
     "name": "stderr",
     "output_type": "stream",
     "text": [
      "/Users/judebuenaseda/.pyenv/versions/3.8.2/lib/python3.8/site-packages/pandas/compat/__init__.py:117: UserWarning: Could not import the lzma module. Your installed Python is incomplete. Attempting to use lzma compression will result in a RuntimeError.\n",
      "  warnings.warn(msg)\n"
     ]
    }
   ],
   "source": [
    "import pandas as pd"
   ]
  },
  {
   "cell_type": "code",
   "execution_count": 2,
   "metadata": {},
   "outputs": [],
   "source": [
    "test = pd.read_csv('farmersmarkets.csv')"
   ]
  },
  {
   "cell_type": "code",
   "execution_count": 18,
   "metadata": {},
   "outputs": [],
   "source": [
    "test['num_market'] = 1"
   ]
  },
  {
   "cell_type": "code",
   "execution_count": 19,
   "metadata": {},
   "outputs": [
    {
     "data": {
      "text/plain": [
       "0       1\n",
       "1       1\n",
       "2       1\n",
       "3       1\n",
       "4       1\n",
       "       ..\n",
       "8650    1\n",
       "8651    1\n",
       "8652    1\n",
       "8653    1\n",
       "8654    1\n",
       "Name: num_market, Length: 8655, dtype: int64"
      ]
     },
     "execution_count": 19,
     "metadata": {},
     "output_type": "execute_result"
    }
   ],
   "source": [
    "test['num_market']"
   ]
  },
  {
   "cell_type": "code",
   "execution_count": 20,
   "metadata": {
    "scrolled": true
   },
   "outputs": [],
   "source": [
    "#test['county']['num_market']"
   ]
  },
  {
   "cell_type": "code",
   "execution_count": 29,
   "metadata": {},
   "outputs": [
    {
     "data": {
      "text/plain": [
       "fmid             8655\n",
       "marketname       8655\n",
       "website          5180\n",
       "facebook         3459\n",
       "twitter           996\n",
       "youtube           161\n",
       "othermedia        636\n",
       "street           8372\n",
       "city             8615\n",
       "county           8118\n",
       "state            8655\n",
       "zip              7714\n",
       "season1date      5386\n",
       "season1time      5519\n",
       "season2date       429\n",
       "season2time       414\n",
       "season3date        78\n",
       "season3time        74\n",
       "season4date         7\n",
       "season4time         7\n",
       "x                8626\n",
       "y                8626\n",
       "location         2922\n",
       "credit           8655\n",
       "wic              8655\n",
       "wiccash          8655\n",
       "sfmnp            8655\n",
       "snap             8655\n",
       "organic          8655\n",
       "bakedgoods       5635\n",
       "cheese           5635\n",
       "crafts           5635\n",
       "flowers          5635\n",
       "eggs             5635\n",
       "seafood          5635\n",
       "herbs            5635\n",
       "vegetables       5635\n",
       "honey            5635\n",
       "jams             5635\n",
       "maple            5635\n",
       "meat             5635\n",
       "nursery          5635\n",
       "nuts             5635\n",
       "plants           5635\n",
       "poultry          5635\n",
       "prepared         5635\n",
       "soap             5635\n",
       "trees            5635\n",
       "wine             5635\n",
       "coffee           5635\n",
       "beans            5635\n",
       "fruits           5635\n",
       "grains           5635\n",
       "juices           5635\n",
       "mushrooms        5635\n",
       "petfood          5635\n",
       "tofu             5635\n",
       "wildharvested    5635\n",
       "updatetime       8655\n",
       "num_market       8655\n",
       "dtype: int64"
      ]
     },
     "execution_count": 29,
     "metadata": {},
     "output_type": "execute_result"
    }
   ],
   "source": [
    "test[test['num_market']==1].count()"
   ]
  },
  {
   "cell_type": "code",
   "execution_count": 47,
   "metadata": {},
   "outputs": [
    {
     "data": {
      "text/plain": [
       "<matplotlib.axes._subplots.AxesSubplot at 0x1223cda00>"
      ]
     },
     "execution_count": 47,
     "metadata": {},
     "output_type": "execute_result"
    },
    {
     "data": {
      "image/png": "[encoded data removed]",
      "text/plain": [
       "<Figure size 432x288 with 1 Axes>"
      ]
     },
     "metadata": {
      "needs_background": "light"
     },
     "output_type": "display_data"
    }
   ],
   "source": [
    "test.groupby('county')['num_market'].sum().plot(kind='hist')"
   ]
  },
  {
   "cell_type": "code",
   "execution_count": 44,
   "metadata": {},
   "outputs": [
    {
     "data": {
      "text/plain": [
       "county\n",
       "ALAMEDA       2\n",
       "Abbeville     1\n",
       "Accomack      3\n",
       "Ada           7\n",
       "Adair         3\n",
       "             ..\n",
       "Yolo          6\n",
       "York         25\n",
       "Yuba          2\n",
       "Yuma          1\n",
       "midland       1\n",
       "Name: num_market, Length: 1487, dtype: int64"
      ]
     },
     "execution_count": 44,
     "metadata": {},
     "output_type": "execute_result"
    }
   ],
   "source": [
    "test.groupby('county')['num_market'].sum()"
   ]
  },
  {
   "cell_type": "code",
   "execution_count": null,
   "metadata": {},
   "outputs": [],
   "source": []
  }
 ],
 "metadata": {
  "kernelspec": {
   "display_name": "Python 3",
   "language": "python",
   "name": "python3"
  },
  "language_info": {
   "codemirror_mode": {
    "name": "ipython",
    "version": 3
   },
   "file_extension": ".py",
   "mimetype": "text/x-python",
   "name": "python",
   "nbconvert_exporter": "python",
   "pygments_lexer": "ipython3",
   "version": "3.8.2"
  }
 },
 "nbformat": 4,
 "nbformat_minor": 4
}
