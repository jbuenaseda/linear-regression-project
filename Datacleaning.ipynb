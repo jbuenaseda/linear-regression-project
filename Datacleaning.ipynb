{
 "cells": [
  {
   "cell_type": "code",
   "execution_count": 559,
   "metadata": {},
   "outputs": [],
   "source": [
    "import pandas as pd\n",
    "import matplotlib.pyplot as plt\n",
    "import seaborn as sns\n",
    "import numpy as np"
   ]
  },
  {
   "cell_type": "code",
   "execution_count": 511,
   "metadata": {},
   "outputs": [],
   "source": [
    "test = pd.read_csv('survey_results_public.csv')\n",
    "schema = pd.read_csv('survey_results_schema.csv')"
   ]
  },
  {
   "cell_type": "code",
   "execution_count": 512,
   "metadata": {
    "scrolled": true
   },
   "outputs": [
    {
     "data": {
      "text/html": [
       "<div>\n",
       "<style scoped>\n",
       "    .dataframe tbody tr th:only-of-type {\n",
       "        vertical-align: middle;\n",
       "    }\n",
       "\n",
       "    .dataframe tbody tr th {\n",
       "        vertical-align: top;\n",
       "    }\n",
       "\n",
       "    .dataframe thead th {\n",
       "        text-align: right;\n",
       "    }\n",
       "</style>\n",
       "<table border=\"1\" class=\"dataframe\">\n",
       "  <thead>\n",
       "    <tr style=\"text-align: right;\">\n",
       "      <th></th>\n",
       "      <th>Respondent</th>\n",
       "      <th>MainBranch</th>\n",
       "      <th>Hobbyist</th>\n",
       "      <th>OpenSourcer</th>\n",
       "      <th>OpenSource</th>\n",
       "      <th>Employment</th>\n",
       "      <th>Country</th>\n",
       "      <th>Student</th>\n",
       "      <th>EdLevel</th>\n",
       "      <th>UndergradMajor</th>\n",
       "      <th>...</th>\n",
       "      <th>WelcomeChange</th>\n",
       "      <th>SONewContent</th>\n",
       "      <th>Age</th>\n",
       "      <th>Gender</th>\n",
       "      <th>Trans</th>\n",
       "      <th>Sexuality</th>\n",
       "      <th>Ethnicity</th>\n",
       "      <th>Dependents</th>\n",
       "      <th>SurveyLength</th>\n",
       "      <th>SurveyEase</th>\n",
       "    </tr>\n",
       "  </thead>\n",
       "  <tbody>\n",
       "    <tr>\n",
       "      <th>0</th>\n",
       "      <td>1</td>\n",
       "      <td>I am a student who is learning to code</td>\n",
       "      <td>Yes</td>\n",
       "      <td>Never</td>\n",
       "      <td>The quality of OSS and closed source software ...</td>\n",
       "      <td>Not employed, and not looking for work</td>\n",
       "      <td>United Kingdom</td>\n",
       "      <td>No</td>\n",
       "      <td>Primary/elementary school</td>\n",
       "      <td>NaN</td>\n",
       "      <td>...</td>\n",
       "      <td>Just as welcome now as I felt last year</td>\n",
       "      <td>Tech articles written by other developers;Indu...</td>\n",
       "      <td>14.0</td>\n",
       "      <td>Man</td>\n",
       "      <td>No</td>\n",
       "      <td>Straight / Heterosexual</td>\n",
       "      <td>NaN</td>\n",
       "      <td>No</td>\n",
       "      <td>Appropriate in length</td>\n",
       "      <td>Neither easy nor difficult</td>\n",
       "    </tr>\n",
       "    <tr>\n",
       "      <th>1</th>\n",
       "      <td>2</td>\n",
       "      <td>I am a student who is learning to code</td>\n",
       "      <td>No</td>\n",
       "      <td>Less than once per year</td>\n",
       "      <td>The quality of OSS and closed source software ...</td>\n",
       "      <td>Not employed, but looking for work</td>\n",
       "      <td>Bosnia and Herzegovina</td>\n",
       "      <td>Yes, full-time</td>\n",
       "      <td>Secondary school (e.g. American high school, G...</td>\n",
       "      <td>NaN</td>\n",
       "      <td>...</td>\n",
       "      <td>Just as welcome now as I felt last year</td>\n",
       "      <td>Tech articles written by other developers;Indu...</td>\n",
       "      <td>19.0</td>\n",
       "      <td>Man</td>\n",
       "      <td>No</td>\n",
       "      <td>Straight / Heterosexual</td>\n",
       "      <td>NaN</td>\n",
       "      <td>No</td>\n",
       "      <td>Appropriate in length</td>\n",
       "      <td>Neither easy nor difficult</td>\n",
       "    </tr>\n",
       "  </tbody>\n",
       "</table>\n",
       "<p>2 rows × 85 columns</p>\n",
       "</div>"
      ],
      "text/plain": [
       "   Respondent                              MainBranch Hobbyist  \\\n",
       "0           1  I am a student who is learning to code      Yes   \n",
       "1           2  I am a student who is learning to code       No   \n",
       "\n",
       "               OpenSourcer                                         OpenSource  \\\n",
       "0                    Never  The quality of OSS and closed source software ...   \n",
       "1  Less than once per year  The quality of OSS and closed source software ...   \n",
       "\n",
       "                               Employment                 Country  \\\n",
       "0  Not employed, and not looking for work          United Kingdom   \n",
       "1      Not employed, but looking for work  Bosnia and Herzegovina   \n",
       "\n",
       "          Student                                            EdLevel  \\\n",
       "0              No                          Primary/elementary school   \n",
       "1  Yes, full-time  Secondary school (e.g. American high school, G...   \n",
       "\n",
       "  UndergradMajor  ...                            WelcomeChange  \\\n",
       "0            NaN  ...  Just as welcome now as I felt last year   \n",
       "1            NaN  ...  Just as welcome now as I felt last year   \n",
       "\n",
       "                                        SONewContent   Age Gender Trans  \\\n",
       "0  Tech articles written by other developers;Indu...  14.0    Man    No   \n",
       "1  Tech articles written by other developers;Indu...  19.0    Man    No   \n",
       "\n",
       "                 Sexuality Ethnicity Dependents           SurveyLength  \\\n",
       "0  Straight / Heterosexual       NaN         No  Appropriate in length   \n",
       "1  Straight / Heterosexual       NaN         No  Appropriate in length   \n",
       "\n",
       "                   SurveyEase  \n",
       "0  Neither easy nor difficult  \n",
       "1  Neither easy nor difficult  \n",
       "\n",
       "[2 rows x 85 columns]"
      ]
     },
     "execution_count": 512,
     "metadata": {},
     "output_type": "execute_result"
    }
   ],
   "source": [
    "test.head(2)"
   ]
  },
  {
   "cell_type": "code",
   "execution_count": 513,
   "metadata": {},
   "outputs": [
    {
     "data": {
      "text/html": [
       "<div>\n",
       "<style scoped>\n",
       "    .dataframe tbody tr th:only-of-type {\n",
       "        vertical-align: middle;\n",
       "    }\n",
       "\n",
       "    .dataframe tbody tr th {\n",
       "        vertical-align: top;\n",
       "    }\n",
       "\n",
       "    .dataframe thead th {\n",
       "        text-align: right;\n",
       "    }\n",
       "</style>\n",
       "<table border=\"1\" class=\"dataframe\">\n",
       "  <thead>\n",
       "    <tr style=\"text-align: right;\">\n",
       "      <th></th>\n",
       "      <th>Column</th>\n",
       "      <th>QuestionText</th>\n",
       "    </tr>\n",
       "  </thead>\n",
       "  <tbody>\n",
       "    <tr>\n",
       "      <th>0</th>\n",
       "      <td>Respondent</td>\n",
       "      <td>Randomized respondent ID number (not in order ...</td>\n",
       "    </tr>\n",
       "    <tr>\n",
       "      <th>1</th>\n",
       "      <td>MainBranch</td>\n",
       "      <td>Which of the following options best describes ...</td>\n",
       "    </tr>\n",
       "    <tr>\n",
       "      <th>2</th>\n",
       "      <td>Hobbyist</td>\n",
       "      <td>Do you code as a hobby?</td>\n",
       "    </tr>\n",
       "    <tr>\n",
       "      <th>3</th>\n",
       "      <td>OpenSourcer</td>\n",
       "      <td>How often do you contribute to open source?</td>\n",
       "    </tr>\n",
       "    <tr>\n",
       "      <th>4</th>\n",
       "      <td>OpenSource</td>\n",
       "      <td>How do you feel about the quality of open sour...</td>\n",
       "    </tr>\n",
       "    <tr>\n",
       "      <th>5</th>\n",
       "      <td>Employment</td>\n",
       "      <td>Which of the following best describes your cur...</td>\n",
       "    </tr>\n",
       "    <tr>\n",
       "      <th>6</th>\n",
       "      <td>Country</td>\n",
       "      <td>In which country do you currently reside?</td>\n",
       "    </tr>\n",
       "    <tr>\n",
       "      <th>7</th>\n",
       "      <td>Student</td>\n",
       "      <td>Are you currently enrolled in a formal, degree...</td>\n",
       "    </tr>\n",
       "    <tr>\n",
       "      <th>8</th>\n",
       "      <td>EdLevel</td>\n",
       "      <td>Which of the following best describes the high...</td>\n",
       "    </tr>\n",
       "    <tr>\n",
       "      <th>9</th>\n",
       "      <td>UndergradMajor</td>\n",
       "      <td>What was your main or most important field of ...</td>\n",
       "    </tr>\n",
       "    <tr>\n",
       "      <th>10</th>\n",
       "      <td>EduOther</td>\n",
       "      <td>Which of the following types of non-degree edu...</td>\n",
       "    </tr>\n",
       "    <tr>\n",
       "      <th>11</th>\n",
       "      <td>OrgSize</td>\n",
       "      <td>Approximately how many people are employed by ...</td>\n",
       "    </tr>\n",
       "    <tr>\n",
       "      <th>12</th>\n",
       "      <td>DevType</td>\n",
       "      <td>Which of the following describe you? Please se...</td>\n",
       "    </tr>\n",
       "    <tr>\n",
       "      <th>13</th>\n",
       "      <td>YearsCode</td>\n",
       "      <td>Including any education, how many years have y...</td>\n",
       "    </tr>\n",
       "    <tr>\n",
       "      <th>14</th>\n",
       "      <td>Age1stCode</td>\n",
       "      <td>At what age did you write your first line of c...</td>\n",
       "    </tr>\n",
       "    <tr>\n",
       "      <th>15</th>\n",
       "      <td>YearsCodePro</td>\n",
       "      <td>How many years have you coded professionally (...</td>\n",
       "    </tr>\n",
       "    <tr>\n",
       "      <th>16</th>\n",
       "      <td>CareerSat</td>\n",
       "      <td>Overall, how satisfied are you with your caree...</td>\n",
       "    </tr>\n",
       "    <tr>\n",
       "      <th>17</th>\n",
       "      <td>JobSat</td>\n",
       "      <td>How satisfied are you with your current job? (...</td>\n",
       "    </tr>\n",
       "    <tr>\n",
       "      <th>18</th>\n",
       "      <td>MgrIdiot</td>\n",
       "      <td>How confident are you that your manager knows ...</td>\n",
       "    </tr>\n",
       "    <tr>\n",
       "      <th>19</th>\n",
       "      <td>MgrMoney</td>\n",
       "      <td>Do you believe that you need to be a manager t...</td>\n",
       "    </tr>\n",
       "    <tr>\n",
       "      <th>20</th>\n",
       "      <td>MgrWant</td>\n",
       "      <td>Do you want to become a manager yourself in th...</td>\n",
       "    </tr>\n",
       "    <tr>\n",
       "      <th>21</th>\n",
       "      <td>JobSeek</td>\n",
       "      <td>Which of the following best describes your cur...</td>\n",
       "    </tr>\n",
       "    <tr>\n",
       "      <th>22</th>\n",
       "      <td>LastHireDate</td>\n",
       "      <td>When was the last time that you took a job wit...</td>\n",
       "    </tr>\n",
       "    <tr>\n",
       "      <th>23</th>\n",
       "      <td>LastInt</td>\n",
       "      <td>In your most recent successful job interview (...</td>\n",
       "    </tr>\n",
       "    <tr>\n",
       "      <th>24</th>\n",
       "      <td>FizzBuzz</td>\n",
       "      <td>Have you ever been asked to solve FizzBuzz in ...</td>\n",
       "    </tr>\n",
       "    <tr>\n",
       "      <th>25</th>\n",
       "      <td>JobFactors</td>\n",
       "      <td>Imagine that you are deciding between two job ...</td>\n",
       "    </tr>\n",
       "    <tr>\n",
       "      <th>26</th>\n",
       "      <td>ResumeUpdate</td>\n",
       "      <td>Think back to the last time you updated your r...</td>\n",
       "    </tr>\n",
       "    <tr>\n",
       "      <th>27</th>\n",
       "      <td>CurrencySymbol</td>\n",
       "      <td>Which currency do you use day-to-day? If your ...</td>\n",
       "    </tr>\n",
       "    <tr>\n",
       "      <th>28</th>\n",
       "      <td>CurrencyDesc</td>\n",
       "      <td>Which currency do you use day-to-day? If your ...</td>\n",
       "    </tr>\n",
       "    <tr>\n",
       "      <th>29</th>\n",
       "      <td>CompTotal</td>\n",
       "      <td>What is your current total compensation (salar...</td>\n",
       "    </tr>\n",
       "    <tr>\n",
       "      <th>30</th>\n",
       "      <td>CompFreq</td>\n",
       "      <td>Is that compensation weekly, monthly, or yearly?</td>\n",
       "    </tr>\n",
       "    <tr>\n",
       "      <th>31</th>\n",
       "      <td>ConvertedComp</td>\n",
       "      <td>Salary converted to annual USD salaries using ...</td>\n",
       "    </tr>\n",
       "    <tr>\n",
       "      <th>32</th>\n",
       "      <td>WorkWeekHrs</td>\n",
       "      <td>On average, how many hours per week do you work?</td>\n",
       "    </tr>\n",
       "    <tr>\n",
       "      <th>33</th>\n",
       "      <td>WorkPlan</td>\n",
       "      <td>How structured or planned is your work?</td>\n",
       "    </tr>\n",
       "    <tr>\n",
       "      <th>34</th>\n",
       "      <td>WorkChallenge</td>\n",
       "      <td>Of these options, what are your greatest chall...</td>\n",
       "    </tr>\n",
       "    <tr>\n",
       "      <th>35</th>\n",
       "      <td>WorkRemote</td>\n",
       "      <td>How often do you work remotely?</td>\n",
       "    </tr>\n",
       "    <tr>\n",
       "      <th>36</th>\n",
       "      <td>WorkLoc</td>\n",
       "      <td>Where would you prefer to work?</td>\n",
       "    </tr>\n",
       "    <tr>\n",
       "      <th>37</th>\n",
       "      <td>ImpSyn</td>\n",
       "      <td>For the specific work you do, and the years of...</td>\n",
       "    </tr>\n",
       "    <tr>\n",
       "      <th>38</th>\n",
       "      <td>CodeRev</td>\n",
       "      <td>Do you review code as part of your work?</td>\n",
       "    </tr>\n",
       "    <tr>\n",
       "      <th>39</th>\n",
       "      <td>CodeRevHrs</td>\n",
       "      <td>On average, how many hours per week do you spe...</td>\n",
       "    </tr>\n",
       "    <tr>\n",
       "      <th>40</th>\n",
       "      <td>UnitTests</td>\n",
       "      <td>Does your company regularly employ unit tests ...</td>\n",
       "    </tr>\n",
       "    <tr>\n",
       "      <th>41</th>\n",
       "      <td>PurchaseHow</td>\n",
       "      <td>How does your company make decisions about pur...</td>\n",
       "    </tr>\n",
       "    <tr>\n",
       "      <th>42</th>\n",
       "      <td>PurchaseWhat</td>\n",
       "      <td>What level of influence do you, personally, ha...</td>\n",
       "    </tr>\n",
       "    <tr>\n",
       "      <th>43</th>\n",
       "      <td>LanguageWorkedWith</td>\n",
       "      <td>Which of the following programming, scripting,...</td>\n",
       "    </tr>\n",
       "    <tr>\n",
       "      <th>44</th>\n",
       "      <td>LanguageDesireNextYear</td>\n",
       "      <td>Which of the following programming, scripting,...</td>\n",
       "    </tr>\n",
       "    <tr>\n",
       "      <th>45</th>\n",
       "      <td>DatabaseWorkedWith</td>\n",
       "      <td>Which of the following database environments h...</td>\n",
       "    </tr>\n",
       "    <tr>\n",
       "      <th>46</th>\n",
       "      <td>DatabaseDesireNextYear</td>\n",
       "      <td>Which of the following database environments h...</td>\n",
       "    </tr>\n",
       "    <tr>\n",
       "      <th>47</th>\n",
       "      <td>PlatformWorkedWith</td>\n",
       "      <td>Which of the following platforms have you done...</td>\n",
       "    </tr>\n",
       "    <tr>\n",
       "      <th>48</th>\n",
       "      <td>PlatformDesireNextYear</td>\n",
       "      <td>Which of the following platforms have you done...</td>\n",
       "    </tr>\n",
       "    <tr>\n",
       "      <th>49</th>\n",
       "      <td>WebFrameWorkedWith</td>\n",
       "      <td>Which of the following web frameworks have you...</td>\n",
       "    </tr>\n",
       "    <tr>\n",
       "      <th>50</th>\n",
       "      <td>WebFrameDesireNextYear</td>\n",
       "      <td>Which of the following web frameworks have you...</td>\n",
       "    </tr>\n",
       "    <tr>\n",
       "      <th>51</th>\n",
       "      <td>MiscTechWorkedWith</td>\n",
       "      <td>Which of the following other frameworks, libra...</td>\n",
       "    </tr>\n",
       "    <tr>\n",
       "      <th>52</th>\n",
       "      <td>MiscTechDesireNextYear</td>\n",
       "      <td>Which of the following other frameworks, libra...</td>\n",
       "    </tr>\n",
       "    <tr>\n",
       "      <th>53</th>\n",
       "      <td>DevEnviron</td>\n",
       "      <td>Which development environment(s) do you use re...</td>\n",
       "    </tr>\n",
       "    <tr>\n",
       "      <th>54</th>\n",
       "      <td>OpSys</td>\n",
       "      <td>What is the primary operating system in which ...</td>\n",
       "    </tr>\n",
       "    <tr>\n",
       "      <th>55</th>\n",
       "      <td>Containers</td>\n",
       "      <td>How do you use containers (Docker, Open Contai...</td>\n",
       "    </tr>\n",
       "    <tr>\n",
       "      <th>56</th>\n",
       "      <td>BlockchainOrg</td>\n",
       "      <td>How is your organization thinking about or imp...</td>\n",
       "    </tr>\n",
       "    <tr>\n",
       "      <th>57</th>\n",
       "      <td>BlockchainIs</td>\n",
       "      <td>Blockchain / cryptocurrency technology is prim...</td>\n",
       "    </tr>\n",
       "    <tr>\n",
       "      <th>58</th>\n",
       "      <td>BetterLife</td>\n",
       "      <td>Do you think people born today will have a bet...</td>\n",
       "    </tr>\n",
       "    <tr>\n",
       "      <th>59</th>\n",
       "      <td>ITperson</td>\n",
       "      <td>Are you the \"IT support person\" for your family?</td>\n",
       "    </tr>\n",
       "    <tr>\n",
       "      <th>60</th>\n",
       "      <td>OffOn</td>\n",
       "      <td>Have you tried turning it off and on again?</td>\n",
       "    </tr>\n",
       "    <tr>\n",
       "      <th>61</th>\n",
       "      <td>SocialMedia</td>\n",
       "      <td>What social media site do you use the most?</td>\n",
       "    </tr>\n",
       "    <tr>\n",
       "      <th>62</th>\n",
       "      <td>Extraversion</td>\n",
       "      <td>Do you prefer online chat or IRL conversations?</td>\n",
       "    </tr>\n",
       "    <tr>\n",
       "      <th>63</th>\n",
       "      <td>ScreenName</td>\n",
       "      <td>What do you call it?</td>\n",
       "    </tr>\n",
       "    <tr>\n",
       "      <th>64</th>\n",
       "      <td>SOVisit1st</td>\n",
       "      <td>To the best of your memory, when did you first...</td>\n",
       "    </tr>\n",
       "    <tr>\n",
       "      <th>65</th>\n",
       "      <td>SOVisitFreq</td>\n",
       "      <td>How frequently would you say you visit Stack O...</td>\n",
       "    </tr>\n",
       "    <tr>\n",
       "      <th>66</th>\n",
       "      <td>SOVisitTo</td>\n",
       "      <td>I visit Stack Overflow to... (check all that a...</td>\n",
       "    </tr>\n",
       "    <tr>\n",
       "      <th>67</th>\n",
       "      <td>SOFindAnswer</td>\n",
       "      <td>On average, how many times a week do you find ...</td>\n",
       "    </tr>\n",
       "    <tr>\n",
       "      <th>68</th>\n",
       "      <td>SOTimeSaved</td>\n",
       "      <td>Think back to the last time you solved a codin...</td>\n",
       "    </tr>\n",
       "    <tr>\n",
       "      <th>69</th>\n",
       "      <td>SOHowMuchTime</td>\n",
       "      <td>About how much time did you save? If you're no...</td>\n",
       "    </tr>\n",
       "    <tr>\n",
       "      <th>70</th>\n",
       "      <td>SOAccount</td>\n",
       "      <td>Do you have a Stack Overflow account?</td>\n",
       "    </tr>\n",
       "    <tr>\n",
       "      <th>71</th>\n",
       "      <td>SOPartFreq</td>\n",
       "      <td>How frequently would you say you participate i...</td>\n",
       "    </tr>\n",
       "    <tr>\n",
       "      <th>72</th>\n",
       "      <td>SOJobs</td>\n",
       "      <td>Have you ever used or visited Stack Overflow J...</td>\n",
       "    </tr>\n",
       "    <tr>\n",
       "      <th>73</th>\n",
       "      <td>EntTeams</td>\n",
       "      <td>Have you ever used Stack Overflow for Enterpri...</td>\n",
       "    </tr>\n",
       "    <tr>\n",
       "      <th>74</th>\n",
       "      <td>SOComm</td>\n",
       "      <td>Do you consider yourself a member of the Stack...</td>\n",
       "    </tr>\n",
       "    <tr>\n",
       "      <th>75</th>\n",
       "      <td>WelcomeChange</td>\n",
       "      <td>Compared to last year, how welcome do you feel...</td>\n",
       "    </tr>\n",
       "    <tr>\n",
       "      <th>76</th>\n",
       "      <td>SONewContent</td>\n",
       "      <td>Would you like to see any of the following on ...</td>\n",
       "    </tr>\n",
       "    <tr>\n",
       "      <th>77</th>\n",
       "      <td>Age</td>\n",
       "      <td>What is your age (in years)? If you prefer not...</td>\n",
       "    </tr>\n",
       "    <tr>\n",
       "      <th>78</th>\n",
       "      <td>Gender</td>\n",
       "      <td>Which of the following do you currently identi...</td>\n",
       "    </tr>\n",
       "    <tr>\n",
       "      <th>79</th>\n",
       "      <td>Trans</td>\n",
       "      <td>Do you identify as transgender?</td>\n",
       "    </tr>\n",
       "    <tr>\n",
       "      <th>80</th>\n",
       "      <td>Sexuality</td>\n",
       "      <td>Which of the following do you currently identi...</td>\n",
       "    </tr>\n",
       "    <tr>\n",
       "      <th>81</th>\n",
       "      <td>Ethnicity</td>\n",
       "      <td>Which of the following do you identify as? Ple...</td>\n",
       "    </tr>\n",
       "    <tr>\n",
       "      <th>82</th>\n",
       "      <td>Dependents</td>\n",
       "      <td>Do you have any dependents (e.g., children, el...</td>\n",
       "    </tr>\n",
       "    <tr>\n",
       "      <th>83</th>\n",
       "      <td>SurveyLength</td>\n",
       "      <td>How do you feel about the length of the survey...</td>\n",
       "    </tr>\n",
       "    <tr>\n",
       "      <th>84</th>\n",
       "      <td>SurveyEase</td>\n",
       "      <td>How easy or difficult was this survey to compl...</td>\n",
       "    </tr>\n",
       "  </tbody>\n",
       "</table>\n",
       "</div>"
      ],
      "text/plain": [
       "                    Column                                       QuestionText\n",
       "0               Respondent  Randomized respondent ID number (not in order ...\n",
       "1               MainBranch  Which of the following options best describes ...\n",
       "2                 Hobbyist                            Do you code as a hobby?\n",
       "3              OpenSourcer        How often do you contribute to open source?\n",
       "4               OpenSource  How do you feel about the quality of open sour...\n",
       "5               Employment  Which of the following best describes your cur...\n",
       "6                  Country          In which country do you currently reside?\n",
       "7                  Student  Are you currently enrolled in a formal, degree...\n",
       "8                  EdLevel  Which of the following best describes the high...\n",
       "9           UndergradMajor  What was your main or most important field of ...\n",
       "10                EduOther  Which of the following types of non-degree edu...\n",
       "11                 OrgSize  Approximately how many people are employed by ...\n",
       "12                 DevType  Which of the following describe you? Please se...\n",
       "13               YearsCode  Including any education, how many years have y...\n",
       "14              Age1stCode  At what age did you write your first line of c...\n",
       "15            YearsCodePro  How many years have you coded professionally (...\n",
       "16               CareerSat  Overall, how satisfied are you with your caree...\n",
       "17                  JobSat  How satisfied are you with your current job? (...\n",
       "18                MgrIdiot  How confident are you that your manager knows ...\n",
       "19                MgrMoney  Do you believe that you need to be a manager t...\n",
       "20                 MgrWant  Do you want to become a manager yourself in th...\n",
       "21                 JobSeek  Which of the following best describes your cur...\n",
       "22            LastHireDate  When was the last time that you took a job wit...\n",
       "23                 LastInt  In your most recent successful job interview (...\n",
       "24                FizzBuzz  Have you ever been asked to solve FizzBuzz in ...\n",
       "25              JobFactors  Imagine that you are deciding between two job ...\n",
       "26            ResumeUpdate  Think back to the last time you updated your r...\n",
       "27          CurrencySymbol  Which currency do you use day-to-day? If your ...\n",
       "28            CurrencyDesc  Which currency do you use day-to-day? If your ...\n",
       "29               CompTotal  What is your current total compensation (salar...\n",
       "30                CompFreq   Is that compensation weekly, monthly, or yearly?\n",
       "31           ConvertedComp  Salary converted to annual USD salaries using ...\n",
       "32             WorkWeekHrs   On average, how many hours per week do you work?\n",
       "33                WorkPlan            How structured or planned is your work?\n",
       "34           WorkChallenge  Of these options, what are your greatest chall...\n",
       "35              WorkRemote                    How often do you work remotely?\n",
       "36                 WorkLoc                    Where would you prefer to work?\n",
       "37                  ImpSyn  For the specific work you do, and the years of...\n",
       "38                 CodeRev           Do you review code as part of your work?\n",
       "39              CodeRevHrs  On average, how many hours per week do you spe...\n",
       "40               UnitTests  Does your company regularly employ unit tests ...\n",
       "41             PurchaseHow  How does your company make decisions about pur...\n",
       "42            PurchaseWhat  What level of influence do you, personally, ha...\n",
       "43      LanguageWorkedWith  Which of the following programming, scripting,...\n",
       "44  LanguageDesireNextYear  Which of the following programming, scripting,...\n",
       "45      DatabaseWorkedWith  Which of the following database environments h...\n",
       "46  DatabaseDesireNextYear  Which of the following database environments h...\n",
       "47      PlatformWorkedWith  Which of the following platforms have you done...\n",
       "48  PlatformDesireNextYear  Which of the following platforms have you done...\n",
       "49      WebFrameWorkedWith  Which of the following web frameworks have you...\n",
       "50  WebFrameDesireNextYear  Which of the following web frameworks have you...\n",
       "51      MiscTechWorkedWith  Which of the following other frameworks, libra...\n",
       "52  MiscTechDesireNextYear  Which of the following other frameworks, libra...\n",
       "53              DevEnviron  Which development environment(s) do you use re...\n",
       "54                   OpSys  What is the primary operating system in which ...\n",
       "55              Containers  How do you use containers (Docker, Open Contai...\n",
       "56           BlockchainOrg  How is your organization thinking about or imp...\n",
       "57            BlockchainIs  Blockchain / cryptocurrency technology is prim...\n",
       "58              BetterLife  Do you think people born today will have a bet...\n",
       "59                ITperson   Are you the \"IT support person\" for your family?\n",
       "60                   OffOn        Have you tried turning it off and on again?\n",
       "61             SocialMedia        What social media site do you use the most?\n",
       "62            Extraversion    Do you prefer online chat or IRL conversations?\n",
       "63              ScreenName                               What do you call it?\n",
       "64              SOVisit1st  To the best of your memory, when did you first...\n",
       "65             SOVisitFreq  How frequently would you say you visit Stack O...\n",
       "66               SOVisitTo  I visit Stack Overflow to... (check all that a...\n",
       "67            SOFindAnswer  On average, how many times a week do you find ...\n",
       "68             SOTimeSaved  Think back to the last time you solved a codin...\n",
       "69           SOHowMuchTime  About how much time did you save? If you're no...\n",
       "70               SOAccount              Do you have a Stack Overflow account?\n",
       "71              SOPartFreq  How frequently would you say you participate i...\n",
       "72                  SOJobs  Have you ever used or visited Stack Overflow J...\n",
       "73                EntTeams  Have you ever used Stack Overflow for Enterpri...\n",
       "74                  SOComm  Do you consider yourself a member of the Stack...\n",
       "75           WelcomeChange  Compared to last year, how welcome do you feel...\n",
       "76            SONewContent  Would you like to see any of the following on ...\n",
       "77                     Age  What is your age (in years)? If you prefer not...\n",
       "78                  Gender  Which of the following do you currently identi...\n",
       "79                   Trans                    Do you identify as transgender?\n",
       "80               Sexuality  Which of the following do you currently identi...\n",
       "81               Ethnicity  Which of the following do you identify as? Ple...\n",
       "82              Dependents  Do you have any dependents (e.g., children, el...\n",
       "83            SurveyLength  How do you feel about the length of the survey...\n",
       "84              SurveyEase  How easy or difficult was this survey to compl..."
      ]
     },
     "execution_count": 513,
     "metadata": {},
     "output_type": "execute_result"
    }
   ],
   "source": [
    "pd.set_option('display.max_rows', 85)\n",
    "schema"
   ]
  },
  {
   "cell_type": "code",
   "execution_count": 514,
   "metadata": {},
   "outputs": [],
   "source": [
    "potential_features = ['Respondent', 'MainBranch', 'Hobbyist', 'OpenSourcer', 'Employment',  \n",
    "                      'EdLevel', 'UndergradMajor', 'EduOther', 'DevType', 'YearsCode', 'YearsCodePro', \n",
    "                      'FizzBuzz', 'CompTotal', 'CompFreq', 'ConvertedComp', 'WorkWeekHrs',\n",
    "                      'WorkRemote', 'LanguageWorkedWith', 'ITperson', 'Age', 'Gender', 'Ethnicity']"
   ]
  },
  {
   "cell_type": "markdown",
   "metadata": {},
   "source": [
    "potential questions and EDA\n",
    "\n",
    "Meaningful questions and answers\n",
    "1. Does education level affect your income?\n",
    "2. Does age affect your income?\n",
    "3. Are there any statistical differences between being a mainbranch, a hobbyist, ITperson\n",
    "4. The more the better? (languages)\n",
    "5. Does the amount of hours you work affect your income? What if you work remote?\n",
    "\n",
    "heatmap\n",
    "\n",
    "Viz\n",
    "1. Age & Income\n",
    "2. Gender distribution bar graph\n",
    "3. WorkWeekHrs & Income\n",
    "4. Ethnicity distribution\n",
    "\n",
    "Stat test\n",
    "1. MainBranch \n",
    "2. Gender Income\n",
    "3. EdLevel\n",
    "4. hobbyist\n",
    "5. ITperson\n",
    "\n",
    "fizzbuzz \n",
    "\n",
    "\n",
    "\n",
    "Final MODEL:\n",
    "\n",
    "\n",
    "\n",
    "\n",
    "\n",
    "\n",
    "\n",
    "\n",
    "\n",
    "v?"
   ]
  },
  {
   "cell_type": "code",
   "execution_count": 515,
   "metadata": {},
   "outputs": [],
   "source": [
    "US = test[test['Country']=='United States']"
   ]
  },
  {
   "cell_type": "code",
   "execution_count": 516,
   "metadata": {},
   "outputs": [],
   "source": [
    "us_devs = US[potential_features]"
   ]
  },
  {
   "cell_type": "code",
   "execution_count": 517,
   "metadata": {
    "scrolled": false
   },
   "outputs": [
    {
     "name": "stderr",
     "output_type": "stream",
     "text": [
      "<ipython-input-517-68f3d50c0459>:1: SettingWithCopyWarning: \n",
      "A value is trying to be set on a copy of a slice from a DataFrame\n",
      "\n",
      "See the caveats in the documentation: https://pandas.pydata.org/pandas-docs/stable/user_guide/indexing.html#returning-a-view-versus-a-copy\n",
      "  us_devs.dropna(inplace=True)\n"
     ]
    }
   ],
   "source": [
    "us_devs.dropna(inplace=True)"
   ]
  },
  {
   "cell_type": "code",
   "execution_count": 518,
   "metadata": {
    "scrolled": true
   },
   "outputs": [
    {
     "data": {
      "text/plain": [
       "(12206, 22)"
      ]
     },
     "execution_count": 518,
     "metadata": {},
     "output_type": "execute_result"
    }
   ],
   "source": [
    "us_devs.shape"
   ]
  },
  {
   "cell_type": "code",
   "execution_count": 519,
   "metadata": {},
   "outputs": [],
   "source": [
    "us_dev_workers = us_devs[us_devs['Employment']=='Employed full-time']"
   ]
  },
  {
   "cell_type": "code",
   "execution_count": 520,
   "metadata": {},
   "outputs": [],
   "source": [
    "ft = us_dev_workers['CompTotal'] != 0"
   ]
  },
  {
   "cell_type": "code",
   "execution_count": 521,
   "metadata": {
    "scrolled": true
   },
   "outputs": [],
   "source": [
    "dev_df = us_dev_workers[ft]"
   ]
  },
  {
   "cell_type": "code",
   "execution_count": 522,
   "metadata": {},
   "outputs": [
    {
     "data": {
      "text/plain": [
       "(11485, 22)"
      ]
     },
     "execution_count": 522,
     "metadata": {},
     "output_type": "execute_result"
    }
   ],
   "source": [
    "dev_df.shape"
   ]
  },
  {
   "cell_type": "code",
   "execution_count": 523,
   "metadata": {},
   "outputs": [],
   "source": [
    "weekly = dev_df['CompFreq'] == 'Weekly'\n",
    "monthly = dev_df['CompFreq'] == 'Monthly'"
   ]
  },
  {
   "cell_type": "code",
   "execution_count": 312,
   "metadata": {
    "scrolled": false
   },
   "outputs": [],
   "source": [
    "#dev_df[weekly]['CompTotal'].apply(lambda x: x*52 if x<2000 else x)"
   ]
  },
  {
   "cell_type": "code",
   "execution_count": 311,
   "metadata": {},
   "outputs": [],
   "source": [
    "#dev_df[monthly]['CompTotal'].apply(lambda x: x*12 if x<8000 else x)"
   ]
  },
  {
   "cell_type": "code",
   "execution_count": 524,
   "metadata": {},
   "outputs": [],
   "source": [
    "dev_df.reset_index(drop=True, inplace=True)"
   ]
  },
  {
   "cell_type": "code",
   "execution_count": 525,
   "metadata": {
    "scrolled": true
   },
   "outputs": [
    {
     "data": {
      "text/html": [
       "<div>\n",
       "<style scoped>\n",
       "    .dataframe tbody tr th:only-of-type {\n",
       "        vertical-align: middle;\n",
       "    }\n",
       "\n",
       "    .dataframe tbody tr th {\n",
       "        vertical-align: top;\n",
       "    }\n",
       "\n",
       "    .dataframe thead th {\n",
       "        text-align: right;\n",
       "    }\n",
       "</style>\n",
       "<table border=\"1\" class=\"dataframe\">\n",
       "  <thead>\n",
       "    <tr style=\"text-align: right;\">\n",
       "      <th></th>\n",
       "      <th>Respondent</th>\n",
       "      <th>MainBranch</th>\n",
       "      <th>Hobbyist</th>\n",
       "      <th>OpenSourcer</th>\n",
       "      <th>Employment</th>\n",
       "      <th>EdLevel</th>\n",
       "      <th>UndergradMajor</th>\n",
       "      <th>EduOther</th>\n",
       "      <th>DevType</th>\n",
       "      <th>YearsCode</th>\n",
       "      <th>...</th>\n",
       "      <th>CompTotal</th>\n",
       "      <th>CompFreq</th>\n",
       "      <th>ConvertedComp</th>\n",
       "      <th>WorkWeekHrs</th>\n",
       "      <th>WorkRemote</th>\n",
       "      <th>LanguageWorkedWith</th>\n",
       "      <th>ITperson</th>\n",
       "      <th>Age</th>\n",
       "      <th>Gender</th>\n",
       "      <th>Ethnicity</th>\n",
       "    </tr>\n",
       "  </thead>\n",
       "  <tbody>\n",
       "    <tr>\n",
       "      <th>0</th>\n",
       "      <td>4</td>\n",
       "      <td>I am a developer by profession</td>\n",
       "      <td>No</td>\n",
       "      <td>Never</td>\n",
       "      <td>Employed full-time</td>\n",
       "      <td>Bachelor’s degree (BA, BS, B.Eng., etc.)</td>\n",
       "      <td>Computer science, computer engineering, or sof...</td>\n",
       "      <td>Taken an online course in programming or softw...</td>\n",
       "      <td>Developer, full-stack</td>\n",
       "      <td>3</td>\n",
       "      <td>...</td>\n",
       "      <td>61000.0</td>\n",
       "      <td>Yearly</td>\n",
       "      <td>61000.0</td>\n",
       "      <td>80.0</td>\n",
       "      <td>Less than once per month / Never</td>\n",
       "      <td>C;C++;C#;Python;SQL</td>\n",
       "      <td>SIGH</td>\n",
       "      <td>22.0</td>\n",
       "      <td>Man</td>\n",
       "      <td>White or of European descent</td>\n",
       "    </tr>\n",
       "    <tr>\n",
       "      <th>1</th>\n",
       "      <td>13</td>\n",
       "      <td>I am a developer by profession</td>\n",
       "      <td>Yes</td>\n",
       "      <td>Less than once a month but more than once per ...</td>\n",
       "      <td>Employed full-time</td>\n",
       "      <td>Master’s degree (MA, MS, M.Eng., MBA, etc.)</td>\n",
       "      <td>Computer science, computer engineering, or sof...</td>\n",
       "      <td>Taken an online course in programming or softw...</td>\n",
       "      <td>Data or business analyst;Database administrato...</td>\n",
       "      <td>17</td>\n",
       "      <td>...</td>\n",
       "      <td>90000.0</td>\n",
       "      <td>Yearly</td>\n",
       "      <td>90000.0</td>\n",
       "      <td>40.0</td>\n",
       "      <td>All or almost all the time (I'm full-time remote)</td>\n",
       "      <td>Bash/Shell/PowerShell;HTML/CSS;JavaScript;PHP;...</td>\n",
       "      <td>Yes</td>\n",
       "      <td>28.0</td>\n",
       "      <td>Man</td>\n",
       "      <td>White or of European descent</td>\n",
       "    </tr>\n",
       "    <tr>\n",
       "      <th>2</th>\n",
       "      <td>23</td>\n",
       "      <td>I am a developer by profession</td>\n",
       "      <td>Yes</td>\n",
       "      <td>Less than once per year</td>\n",
       "      <td>Employed full-time</td>\n",
       "      <td>Bachelor’s degree (BA, BS, B.Eng., etc.)</td>\n",
       "      <td>Information systems, information technology, o...</td>\n",
       "      <td>Taken an online course in programming or softw...</td>\n",
       "      <td>Developer, full-stack</td>\n",
       "      <td>3</td>\n",
       "      <td>...</td>\n",
       "      <td>69000.0</td>\n",
       "      <td>Yearly</td>\n",
       "      <td>69000.0</td>\n",
       "      <td>40.0</td>\n",
       "      <td>A few days each month</td>\n",
       "      <td>Bash/Shell/PowerShell;HTML/CSS;JavaScript;Pyth...</td>\n",
       "      <td>SIGH</td>\n",
       "      <td>22.0</td>\n",
       "      <td>Man</td>\n",
       "      <td>Black or of African descent</td>\n",
       "    </tr>\n",
       "    <tr>\n",
       "      <th>3</th>\n",
       "      <td>32</td>\n",
       "      <td>I am a developer by profession</td>\n",
       "      <td>No</td>\n",
       "      <td>Never</td>\n",
       "      <td>Employed full-time</td>\n",
       "      <td>Associate degree</td>\n",
       "      <td>Information systems, information technology, o...</td>\n",
       "      <td>Completed an industry certification program (e...</td>\n",
       "      <td>Developer, full-stack</td>\n",
       "      <td>3</td>\n",
       "      <td>...</td>\n",
       "      <td>22000.0</td>\n",
       "      <td>Weekly</td>\n",
       "      <td>1100000.0</td>\n",
       "      <td>37.0</td>\n",
       "      <td>Less than once per month / Never</td>\n",
       "      <td>Bash/Shell/PowerShell;HTML/CSS;JavaScript;PHP;...</td>\n",
       "      <td>SIGH</td>\n",
       "      <td>21.0</td>\n",
       "      <td>Man</td>\n",
       "      <td>White or of European descent</td>\n",
       "    </tr>\n",
       "    <tr>\n",
       "      <th>4</th>\n",
       "      <td>35</td>\n",
       "      <td>I am a developer by profession</td>\n",
       "      <td>No</td>\n",
       "      <td>Never</td>\n",
       "      <td>Employed full-time</td>\n",
       "      <td>Bachelor’s degree (BA, BS, B.Eng., etc.)</td>\n",
       "      <td>Information systems, information technology, o...</td>\n",
       "      <td>Taken a part-time in-person course in programm...</td>\n",
       "      <td>Developer, front-end</td>\n",
       "      <td>14</td>\n",
       "      <td>...</td>\n",
       "      <td>80000.0</td>\n",
       "      <td>Yearly</td>\n",
       "      <td>80000.0</td>\n",
       "      <td>40.0</td>\n",
       "      <td>Less than once per month / Never</td>\n",
       "      <td>HTML/CSS;JavaScript</td>\n",
       "      <td>Fortunately, someone else has that title</td>\n",
       "      <td>35.0</td>\n",
       "      <td>Woman</td>\n",
       "      <td>Black or of African descent</td>\n",
       "    </tr>\n",
       "    <tr>\n",
       "      <th>...</th>\n",
       "      <td>...</td>\n",
       "      <td>...</td>\n",
       "      <td>...</td>\n",
       "      <td>...</td>\n",
       "      <td>...</td>\n",
       "      <td>...</td>\n",
       "      <td>...</td>\n",
       "      <td>...</td>\n",
       "      <td>...</td>\n",
       "      <td>...</td>\n",
       "      <td>...</td>\n",
       "      <td>...</td>\n",
       "      <td>...</td>\n",
       "      <td>...</td>\n",
       "      <td>...</td>\n",
       "      <td>...</td>\n",
       "      <td>...</td>\n",
       "      <td>...</td>\n",
       "      <td>...</td>\n",
       "      <td>...</td>\n",
       "      <td>...</td>\n",
       "    </tr>\n",
       "    <tr>\n",
       "      <th>11480</th>\n",
       "      <td>88865</td>\n",
       "      <td>I am a developer by profession</td>\n",
       "      <td>No</td>\n",
       "      <td>Less than once a month but more than once per ...</td>\n",
       "      <td>Employed full-time</td>\n",
       "      <td>Bachelor’s degree (BA, BS, B.Eng., etc.)</td>\n",
       "      <td>A social science (ex. anthropology, psychology...</td>\n",
       "      <td>Taken an online course in programming or softw...</td>\n",
       "      <td>Developer, front-end</td>\n",
       "      <td>15</td>\n",
       "      <td>...</td>\n",
       "      <td>120000.0</td>\n",
       "      <td>Yearly</td>\n",
       "      <td>120000.0</td>\n",
       "      <td>35.0</td>\n",
       "      <td>Less than half the time, but at least one day ...</td>\n",
       "      <td>HTML/CSS;JavaScript</td>\n",
       "      <td>Also Yes</td>\n",
       "      <td>36.0</td>\n",
       "      <td>Man</td>\n",
       "      <td>White or of European descent</td>\n",
       "    </tr>\n",
       "    <tr>\n",
       "      <th>11481</th>\n",
       "      <td>88874</td>\n",
       "      <td>I am a developer by profession</td>\n",
       "      <td>Yes</td>\n",
       "      <td>Once a month or more often</td>\n",
       "      <td>Employed full-time</td>\n",
       "      <td>Bachelor’s degree (BA, BS, B.Eng., etc.)</td>\n",
       "      <td>A social science (ex. anthropology, psychology...</td>\n",
       "      <td>Taken an online course in programming or softw...</td>\n",
       "      <td>Data scientist or machine learning specialist;...</td>\n",
       "      <td>7</td>\n",
       "      <td>...</td>\n",
       "      <td>185000.0</td>\n",
       "      <td>Weekly</td>\n",
       "      <td>2000000.0</td>\n",
       "      <td>50.0</td>\n",
       "      <td>About half the time</td>\n",
       "      <td>C++;Python;Scala;SQL</td>\n",
       "      <td>Yes</td>\n",
       "      <td>26.0</td>\n",
       "      <td>Man</td>\n",
       "      <td>White or of European descent</td>\n",
       "    </tr>\n",
       "    <tr>\n",
       "      <th>11482</th>\n",
       "      <td>88876</td>\n",
       "      <td>I am a developer by profession</td>\n",
       "      <td>Yes</td>\n",
       "      <td>Never</td>\n",
       "      <td>Employed full-time</td>\n",
       "      <td>Bachelor’s degree (BA, BS, B.Eng., etc.)</td>\n",
       "      <td>Computer science, computer engineering, or sof...</td>\n",
       "      <td>Received on-the-job training in software devel...</td>\n",
       "      <td>Developer, back-end;Developer, game or graphics</td>\n",
       "      <td>8</td>\n",
       "      <td>...</td>\n",
       "      <td>180000.0</td>\n",
       "      <td>Yearly</td>\n",
       "      <td>180000.0</td>\n",
       "      <td>40.0</td>\n",
       "      <td>Less than half the time, but at least one day ...</td>\n",
       "      <td>Bash/Shell/PowerShell;C#;HTML/CSS;Java;Python;...</td>\n",
       "      <td>SIGH</td>\n",
       "      <td>23.0</td>\n",
       "      <td>Man</td>\n",
       "      <td>White or of European descent</td>\n",
       "    </tr>\n",
       "    <tr>\n",
       "      <th>11483</th>\n",
       "      <td>88877</td>\n",
       "      <td>I am a developer by profession</td>\n",
       "      <td>Yes</td>\n",
       "      <td>Less than once per year</td>\n",
       "      <td>Employed full-time</td>\n",
       "      <td>Bachelor’s degree (BA, BS, B.Eng., etc.)</td>\n",
       "      <td>Computer science, computer engineering, or sof...</td>\n",
       "      <td>Taken an online course in programming or softw...</td>\n",
       "      <td>Data scientist or machine learning specialist;...</td>\n",
       "      <td>31</td>\n",
       "      <td>...</td>\n",
       "      <td>239000.0</td>\n",
       "      <td>Weekly</td>\n",
       "      <td>2000000.0</td>\n",
       "      <td>45.0</td>\n",
       "      <td>Less than once per month / Never</td>\n",
       "      <td>Bash/Shell/PowerShell;C;Clojure;HTML/CSS;Java;...</td>\n",
       "      <td>Yes</td>\n",
       "      <td>48.0</td>\n",
       "      <td>Man</td>\n",
       "      <td>South Asian</td>\n",
       "    </tr>\n",
       "    <tr>\n",
       "      <th>11484</th>\n",
       "      <td>88878</td>\n",
       "      <td>I am a developer by profession</td>\n",
       "      <td>Yes</td>\n",
       "      <td>Less than once per year</td>\n",
       "      <td>Employed full-time</td>\n",
       "      <td>Bachelor’s degree (BA, BS, B.Eng., etc.)</td>\n",
       "      <td>Computer science, computer engineering, or sof...</td>\n",
       "      <td>Taken an online course in programming or softw...</td>\n",
       "      <td>Developer, back-end;Developer, front-end;Devel...</td>\n",
       "      <td>12</td>\n",
       "      <td>...</td>\n",
       "      <td>130000.0</td>\n",
       "      <td>Yearly</td>\n",
       "      <td>130000.0</td>\n",
       "      <td>40.0</td>\n",
       "      <td>A few days each month</td>\n",
       "      <td>HTML/CSS;JavaScript;Scala;TypeScript</td>\n",
       "      <td>Yes</td>\n",
       "      <td>26.0</td>\n",
       "      <td>Man</td>\n",
       "      <td>South Asian</td>\n",
       "    </tr>\n",
       "  </tbody>\n",
       "</table>\n",
       "<p>11485 rows × 22 columns</p>\n",
       "</div>"
      ],
      "text/plain": [
       "       Respondent                      MainBranch Hobbyist  \\\n",
       "0               4  I am a developer by profession       No   \n",
       "1              13  I am a developer by profession      Yes   \n",
       "2              23  I am a developer by profession      Yes   \n",
       "3              32  I am a developer by profession       No   \n",
       "4              35  I am a developer by profession       No   \n",
       "...           ...                             ...      ...   \n",
       "11480       88865  I am a developer by profession       No   \n",
       "11481       88874  I am a developer by profession      Yes   \n",
       "11482       88876  I am a developer by profession      Yes   \n",
       "11483       88877  I am a developer by profession      Yes   \n",
       "11484       88878  I am a developer by profession      Yes   \n",
       "\n",
       "                                             OpenSourcer          Employment  \\\n",
       "0                                                  Never  Employed full-time   \n",
       "1      Less than once a month but more than once per ...  Employed full-time   \n",
       "2                                Less than once per year  Employed full-time   \n",
       "3                                                  Never  Employed full-time   \n",
       "4                                                  Never  Employed full-time   \n",
       "...                                                  ...                 ...   \n",
       "11480  Less than once a month but more than once per ...  Employed full-time   \n",
       "11481                         Once a month or more often  Employed full-time   \n",
       "11482                                              Never  Employed full-time   \n",
       "11483                            Less than once per year  Employed full-time   \n",
       "11484                            Less than once per year  Employed full-time   \n",
       "\n",
       "                                           EdLevel  \\\n",
       "0         Bachelor’s degree (BA, BS, B.Eng., etc.)   \n",
       "1      Master’s degree (MA, MS, M.Eng., MBA, etc.)   \n",
       "2         Bachelor’s degree (BA, BS, B.Eng., etc.)   \n",
       "3                                 Associate degree   \n",
       "4         Bachelor’s degree (BA, BS, B.Eng., etc.)   \n",
       "...                                            ...   \n",
       "11480     Bachelor’s degree (BA, BS, B.Eng., etc.)   \n",
       "11481     Bachelor’s degree (BA, BS, B.Eng., etc.)   \n",
       "11482     Bachelor’s degree (BA, BS, B.Eng., etc.)   \n",
       "11483     Bachelor’s degree (BA, BS, B.Eng., etc.)   \n",
       "11484     Bachelor’s degree (BA, BS, B.Eng., etc.)   \n",
       "\n",
       "                                          UndergradMajor  \\\n",
       "0      Computer science, computer engineering, or sof...   \n",
       "1      Computer science, computer engineering, or sof...   \n",
       "2      Information systems, information technology, o...   \n",
       "3      Information systems, information technology, o...   \n",
       "4      Information systems, information technology, o...   \n",
       "...                                                  ...   \n",
       "11480  A social science (ex. anthropology, psychology...   \n",
       "11481  A social science (ex. anthropology, psychology...   \n",
       "11482  Computer science, computer engineering, or sof...   \n",
       "11483  Computer science, computer engineering, or sof...   \n",
       "11484  Computer science, computer engineering, or sof...   \n",
       "\n",
       "                                                EduOther  \\\n",
       "0      Taken an online course in programming or softw...   \n",
       "1      Taken an online course in programming or softw...   \n",
       "2      Taken an online course in programming or softw...   \n",
       "3      Completed an industry certification program (e...   \n",
       "4      Taken a part-time in-person course in programm...   \n",
       "...                                                  ...   \n",
       "11480  Taken an online course in programming or softw...   \n",
       "11481  Taken an online course in programming or softw...   \n",
       "11482  Received on-the-job training in software devel...   \n",
       "11483  Taken an online course in programming or softw...   \n",
       "11484  Taken an online course in programming or softw...   \n",
       "\n",
       "                                                 DevType YearsCode  ...  \\\n",
       "0                                  Developer, full-stack         3  ...   \n",
       "1      Data or business analyst;Database administrato...        17  ...   \n",
       "2                                  Developer, full-stack         3  ...   \n",
       "3                                  Developer, full-stack         3  ...   \n",
       "4                                   Developer, front-end        14  ...   \n",
       "...                                                  ...       ...  ...   \n",
       "11480                               Developer, front-end        15  ...   \n",
       "11481  Data scientist or machine learning specialist;...         7  ...   \n",
       "11482    Developer, back-end;Developer, game or graphics         8  ...   \n",
       "11483  Data scientist or machine learning specialist;...        31  ...   \n",
       "11484  Developer, back-end;Developer, front-end;Devel...        12  ...   \n",
       "\n",
       "      CompTotal CompFreq  ConvertedComp WorkWeekHrs  \\\n",
       "0       61000.0   Yearly        61000.0        80.0   \n",
       "1       90000.0   Yearly        90000.0        40.0   \n",
       "2       69000.0   Yearly        69000.0        40.0   \n",
       "3       22000.0   Weekly      1100000.0        37.0   \n",
       "4       80000.0   Yearly        80000.0        40.0   \n",
       "...         ...      ...            ...         ...   \n",
       "11480  120000.0   Yearly       120000.0        35.0   \n",
       "11481  185000.0   Weekly      2000000.0        50.0   \n",
       "11482  180000.0   Yearly       180000.0        40.0   \n",
       "11483  239000.0   Weekly      2000000.0        45.0   \n",
       "11484  130000.0   Yearly       130000.0        40.0   \n",
       "\n",
       "                                              WorkRemote  \\\n",
       "0                       Less than once per month / Never   \n",
       "1      All or almost all the time (I'm full-time remote)   \n",
       "2                                  A few days each month   \n",
       "3                       Less than once per month / Never   \n",
       "4                       Less than once per month / Never   \n",
       "...                                                  ...   \n",
       "11480  Less than half the time, but at least one day ...   \n",
       "11481                                About half the time   \n",
       "11482  Less than half the time, but at least one day ...   \n",
       "11483                   Less than once per month / Never   \n",
       "11484                              A few days each month   \n",
       "\n",
       "                                      LanguageWorkedWith  \\\n",
       "0                                    C;C++;C#;Python;SQL   \n",
       "1      Bash/Shell/PowerShell;HTML/CSS;JavaScript;PHP;...   \n",
       "2      Bash/Shell/PowerShell;HTML/CSS;JavaScript;Pyth...   \n",
       "3      Bash/Shell/PowerShell;HTML/CSS;JavaScript;PHP;...   \n",
       "4                                    HTML/CSS;JavaScript   \n",
       "...                                                  ...   \n",
       "11480                                HTML/CSS;JavaScript   \n",
       "11481                               C++;Python;Scala;SQL   \n",
       "11482  Bash/Shell/PowerShell;C#;HTML/CSS;Java;Python;...   \n",
       "11483  Bash/Shell/PowerShell;C;Clojure;HTML/CSS;Java;...   \n",
       "11484               HTML/CSS;JavaScript;Scala;TypeScript   \n",
       "\n",
       "                                       ITperson   Age Gender  \\\n",
       "0                                          SIGH  22.0    Man   \n",
       "1                                           Yes  28.0    Man   \n",
       "2                                          SIGH  22.0    Man   \n",
       "3                                          SIGH  21.0    Man   \n",
       "4      Fortunately, someone else has that title  35.0  Woman   \n",
       "...                                         ...   ...    ...   \n",
       "11480                                  Also Yes  36.0    Man   \n",
       "11481                                       Yes  26.0    Man   \n",
       "11482                                      SIGH  23.0    Man   \n",
       "11483                                       Yes  48.0    Man   \n",
       "11484                                       Yes  26.0    Man   \n",
       "\n",
       "                          Ethnicity  \n",
       "0      White or of European descent  \n",
       "1      White or of European descent  \n",
       "2       Black or of African descent  \n",
       "3      White or of European descent  \n",
       "4       Black or of African descent  \n",
       "...                             ...  \n",
       "11480  White or of European descent  \n",
       "11481  White or of European descent  \n",
       "11482  White or of European descent  \n",
       "11483                   South Asian  \n",
       "11484                   South Asian  \n",
       "\n",
       "[11485 rows x 22 columns]"
      ]
     },
     "execution_count": 525,
     "metadata": {},
     "output_type": "execute_result"
    }
   ],
   "source": [
    "dev_df"
   ]
  },
  {
   "cell_type": "code",
   "execution_count": 528,
   "metadata": {},
   "outputs": [
    {
     "name": "stderr",
     "output_type": "stream",
     "text": [
      "/Users/judebuenaseda/.pyenv/versions/3.8.2/lib/python3.8/site-packages/pandas/core/frame.py:4125: SettingWithCopyWarning: \n",
      "A value is trying to be set on a copy of a slice from a DataFrame\n",
      "\n",
      "See the caveats in the documentation: https://pandas.pydata.org/pandas-docs/stable/user_guide/indexing.html#returning-a-view-versus-a-copy\n",
      "  return super().rename(\n"
     ]
    }
   ],
   "source": [
    "dev_df.rename(columns={'MainBranch':'FullDev'}, inplace=True)"
   ]
  },
  {
   "cell_type": "code",
   "execution_count": 529,
   "metadata": {
    "scrolled": false
   },
   "outputs": [
    {
     "name": "stderr",
     "output_type": "stream",
     "text": [
      "/Users/judebuenaseda/.pyenv/versions/3.8.2/lib/python3.8/site-packages/pandas/core/generic.py:6746: SettingWithCopyWarning: \n",
      "A value is trying to be set on a copy of a slice from a DataFrame\n",
      "\n",
      "See the caveats in the documentation: https://pandas.pydata.org/pandas-docs/stable/user_guide/indexing.html#returning-a-view-versus-a-copy\n",
      "  self._update_inplace(new_data)\n"
     ]
    }
   ],
   "source": [
    "dev_df['FullDev'].replace({'I am a developer by profession': 1, 'I am not primarily a developer, but I write code sometimes as part of my work': 0}, inplace=True)"
   ]
  },
  {
   "cell_type": "code",
   "execution_count": 530,
   "metadata": {
    "scrolled": true
   },
   "outputs": [],
   "source": [
    "dev_df.rename(columns={'ConvertedComp':'Salary'}, inplace=True)"
   ]
  },
  {
   "cell_type": "code",
   "execution_count": 531,
   "metadata": {},
   "outputs": [],
   "source": [
    "dev_df['Gender'].replace({'Woman': 1, 'Man': 0}, inplace=True)"
   ]
  },
  {
   "cell_type": "code",
   "execution_count": 532,
   "metadata": {},
   "outputs": [],
   "source": [
    "dev_df['FizzBuzz'].replace({'Yes': 1, 'No': 0}, inplace=True)"
   ]
  },
  {
   "cell_type": "code",
   "execution_count": 533,
   "metadata": {},
   "outputs": [],
   "source": [
    "dev_df['Hobbyist'].replace({'Yes': 1, 'No': 0}, inplace=True)"
   ]
  },
  {
   "cell_type": "code",
   "execution_count": 534,
   "metadata": {},
   "outputs": [],
   "source": [
    "dev_df['YearsCode'].replace('Less than 1 year', 1, inplace=True)\n",
    "dev_df['YearsCodePro'].replace('Less than 1 year', 1, inplace=True)\n",
    "dev_df['YearsCodePro'].replace('More than 50 years', 50, inplace=True)\n",
    "dev_df['YearsCode'].replace('More than 50 years', 50, inplace=True)"
   ]
  },
  {
   "cell_type": "code",
   "execution_count": 535,
   "metadata": {},
   "outputs": [
    {
     "name": "stderr",
     "output_type": "stream",
     "text": [
      "<ipython-input-535-3c9699bbf70e>:1: SettingWithCopyWarning: \n",
      "A value is trying to be set on a copy of a slice from a DataFrame.\n",
      "Try using .loc[row_indexer,col_indexer] = value instead\n",
      "\n",
      "See the caveats in the documentation: https://pandas.pydata.org/pandas-docs/stable/user_guide/indexing.html#returning-a-view-versus-a-copy\n",
      "  dev_df['YearsCode'] = dev_df['YearsCode'].astype(int)\n"
     ]
    }
   ],
   "source": [
    "dev_df['YearsCode'] = dev_df['YearsCode'].astype(int)"
   ]
  },
  {
   "cell_type": "code",
   "execution_count": 536,
   "metadata": {},
   "outputs": [
    {
     "name": "stderr",
     "output_type": "stream",
     "text": [
      "<ipython-input-536-263e6ee326a2>:1: SettingWithCopyWarning: \n",
      "A value is trying to be set on a copy of a slice from a DataFrame.\n",
      "Try using .loc[row_indexer,col_indexer] = value instead\n",
      "\n",
      "See the caveats in the documentation: https://pandas.pydata.org/pandas-docs/stable/user_guide/indexing.html#returning-a-view-versus-a-copy\n",
      "  dev_df['YearsCodePro'] = dev_df['YearsCodePro'].astype(int)\n"
     ]
    }
   ],
   "source": [
    "dev_df['YearsCodePro'] = dev_df['YearsCodePro'].astype(int)"
   ]
  },
  {
   "cell_type": "code",
   "execution_count": 537,
   "metadata": {},
   "outputs": [
    {
     "data": {
      "text/plain": [
       "3"
      ]
     },
     "execution_count": 537,
     "metadata": {},
     "output_type": "execute_result"
    }
   ],
   "source": [
    "dev_df['YearsCode'][3]"
   ]
  },
  {
   "cell_type": "code",
   "execution_count": 539,
   "metadata": {},
   "outputs": [
    {
     "data": {
      "text/plain": [
       "1    10439\n",
       "0     1046\n",
       "Name: FullDev, dtype: int64"
      ]
     },
     "execution_count": 539,
     "metadata": {},
     "output_type": "execute_result"
    }
   ],
   "source": [
    "dev_df['FullDev'].value_counts()"
   ]
  },
  {
   "cell_type": "code",
   "execution_count": 541,
   "metadata": {},
   "outputs": [
    {
     "data": {
      "text/plain": [
       "FullDev\n",
       "0    109890.949331\n",
       "1    120741.763100\n",
       "Name: CompTotal, dtype: float64"
      ]
     },
     "execution_count": 541,
     "metadata": {},
     "output_type": "execute_result"
    }
   ],
   "source": [
    "dev_df.groupby('FullDev')['CompTotal'].mean()"
   ]
  },
  {
   "cell_type": "code",
   "execution_count": 542,
   "metadata": {},
   "outputs": [
    {
     "data": {
      "text/plain": [
       "Hobbyist\n",
       "0    116436.051985\n",
       "1    120649.847711\n",
       "Name: CompTotal, dtype: float64"
      ]
     },
     "execution_count": 542,
     "metadata": {},
     "output_type": "execute_result"
    }
   ],
   "source": [
    "dev_df.groupby('Hobbyist')['CompTotal'].mean()"
   ]
  },
  {
   "cell_type": "code",
   "execution_count": 543,
   "metadata": {},
   "outputs": [
    {
     "data": {
      "text/plain": [
       "OpenSourcer\n",
       "Less than once a month but more than once per year    128386.678971\n",
       "Less than once per year                               120770.534278\n",
       "Never                                                 106752.214876\n",
       "Once a month or more often                            142827.892148\n",
       "Name: CompTotal, dtype: float64"
      ]
     },
     "execution_count": 543,
     "metadata": {},
     "output_type": "execute_result"
    }
   ],
   "source": [
    "dev_df.groupby('OpenSourcer')['CompTotal'].mean()"
   ]
  },
  {
   "cell_type": "code",
   "execution_count": 544,
   "metadata": {},
   "outputs": [
    {
     "data": {
      "text/plain": [
       "Index(['Respondent', 'FullDev', 'Hobbyist', 'OpenSourcer', 'Employment',\n",
       "       'EdLevel', 'UndergradMajor', 'EduOther', 'DevType', 'YearsCode',\n",
       "       'YearsCodePro', 'FizzBuzz', 'CompTotal', 'CompFreq', 'Salary',\n",
       "       'WorkWeekHrs', 'WorkRemote', 'LanguageWorkedWith', 'ITperson', 'Age',\n",
       "       'Gender', 'Ethnicity'],\n",
       "      dtype='object')"
      ]
     },
     "execution_count": 544,
     "metadata": {},
     "output_type": "execute_result"
    }
   ],
   "source": [
    "dev_df.columns"
   ]
  },
  {
   "cell_type": "code",
   "execution_count": 545,
   "metadata": {},
   "outputs": [
    {
     "data": {
      "text/plain": [
       "0                         Less than once per month / Never\n",
       "1        All or almost all the time (I'm full-time remote)\n",
       "2                                    A few days each month\n",
       "3                         Less than once per month / Never\n",
       "4                         Less than once per month / Never\n",
       "                               ...                        \n",
       "11480    Less than half the time, but at least one day ...\n",
       "11481                                  About half the time\n",
       "11482    Less than half the time, but at least one day ...\n",
       "11483                     Less than once per month / Never\n",
       "11484                                A few days each month\n",
       "Name: WorkRemote, Length: 11485, dtype: object"
      ]
     },
     "execution_count": 545,
     "metadata": {},
     "output_type": "execute_result"
    }
   ],
   "source": [
    "dev_df['WorkRemote']"
   ]
  },
  {
   "cell_type": "code",
   "execution_count": 546,
   "metadata": {},
   "outputs": [
    {
     "data": {
      "text/plain": [
       "array(['C;C++;C#;Python;SQL',\n",
       "       'Bash/Shell/PowerShell;HTML/CSS;JavaScript;PHP;SQL;TypeScript',\n",
       "       'Bash/Shell/PowerShell;HTML/CSS;JavaScript;Python;Ruby;SQL', ...,\n",
       "       'C++;Python;Scala;SQL',\n",
       "       'Bash/Shell/PowerShell;C#;HTML/CSS;Java;Python;R;Scala',\n",
       "       'Bash/Shell/PowerShell;C;Clojure;HTML/CSS;Java;Scala;Swift;Other(s):'],\n",
       "      dtype=object)"
      ]
     },
     "execution_count": 546,
     "metadata": {},
     "output_type": "execute_result"
    }
   ],
   "source": [
    "dev_df['LanguageWorkedWith'].unique()"
   ]
  },
  {
   "cell_type": "code",
   "execution_count": 547,
   "metadata": {},
   "outputs": [
    {
     "data": {
      "text/plain": [
       "0                                      C;C++;C#;Python;SQL\n",
       "1        Bash/Shell/PowerShell;HTML/CSS;JavaScript;PHP;...\n",
       "2        Bash/Shell/PowerShell;HTML/CSS;JavaScript;Pyth...\n",
       "3        Bash/Shell/PowerShell;HTML/CSS;JavaScript;PHP;...\n",
       "4                                      HTML/CSS;JavaScript\n",
       "                               ...                        \n",
       "11480                                  HTML/CSS;JavaScript\n",
       "11481                                 C++;Python;Scala;SQL\n",
       "11482    Bash/Shell/PowerShell;C#;HTML/CSS;Java;Python;...\n",
       "11483    Bash/Shell/PowerShell;C;Clojure;HTML/CSS;Java;...\n",
       "11484                 HTML/CSS;JavaScript;Scala;TypeScript\n",
       "Name: LanguageWorkedWith, Length: 11485, dtype: object"
      ]
     },
     "execution_count": 547,
     "metadata": {},
     "output_type": "execute_result"
    }
   ],
   "source": [
    "dev_df['LanguageWorkedWith']"
   ]
  },
  {
   "cell_type": "code",
   "execution_count": 548,
   "metadata": {},
   "outputs": [],
   "source": [
    "num = []\n",
    "for i in range(len(dev_df)):\n",
    "    num.append(dev_df['LanguageWorkedWith'][i].count(';')+1)"
   ]
  },
  {
   "cell_type": "code",
   "execution_count": 549,
   "metadata": {
    "scrolled": true
   },
   "outputs": [
    {
     "name": "stderr",
     "output_type": "stream",
     "text": [
      "<ipython-input-549-1dad04d20bc4>:1: SettingWithCopyWarning: \n",
      "A value is trying to be set on a copy of a slice from a DataFrame.\n",
      "Try using .loc[row_indexer,col_indexer] = value instead\n",
      "\n",
      "See the caveats in the documentation: https://pandas.pydata.org/pandas-docs/stable/user_guide/indexing.html#returning-a-view-versus-a-copy\n",
      "  dev_df['num_language'] = num\n"
     ]
    }
   ],
   "source": [
    "dev_df['num_language'] = num"
   ]
  },
  {
   "cell_type": "code",
   "execution_count": 550,
   "metadata": {},
   "outputs": [
    {
     "data": {
      "text/plain": [
       "<matplotlib.axes._subplots.AxesSubplot at 0x138bc31c0>"
      ]
     },
     "execution_count": 550,
     "metadata": {},
     "output_type": "execute_result"
    },
    {
     "data": {
      "image/png": "[encoded data removed]",
      "text/plain": [
       "<Figure size 432x288 with 1 Axes>"
      ]
     },
     "metadata": {
      "needs_background": "light"
     },
     "output_type": "display_data"
    }
   ],
   "source": [
    "dev_df['num_language'].plot(kind='hist')"
   ]
  },
  {
   "cell_type": "code",
   "execution_count": 551,
   "metadata": {},
   "outputs": [
    {
     "data": {
      "text/plain": [
       "Index(['Respondent', 'FullDev', 'Hobbyist', 'OpenSourcer', 'Employment',\n",
       "       'EdLevel', 'UndergradMajor', 'EduOther', 'DevType', 'YearsCode',\n",
       "       'YearsCodePro', 'FizzBuzz', 'CompTotal', 'CompFreq', 'Salary',\n",
       "       'WorkWeekHrs', 'WorkRemote', 'LanguageWorkedWith', 'ITperson', 'Age',\n",
       "       'Gender', 'Ethnicity', 'num_language'],\n",
       "      dtype='object')"
      ]
     },
     "execution_count": 551,
     "metadata": {},
     "output_type": "execute_result"
    }
   ],
   "source": [
    "dev_df.columns"
   ]
  },
  {
   "cell_type": "code",
   "execution_count": 552,
   "metadata": {},
   "outputs": [],
   "source": [
    "developer = dev_df['DevType'].str.contains('Developer')\n",
    "data_scientist = dev_df['DevType'].str.contains('Data')"
   ]
  },
  {
   "cell_type": "code",
   "execution_count": 553,
   "metadata": {},
   "outputs": [
    {
     "data": {
      "text/plain": [
       "10377"
      ]
     },
     "execution_count": 553,
     "metadata": {},
     "output_type": "execute_result"
    }
   ],
   "source": [
    "dev_df[developer]['DevType'].count()"
   ]
  },
  {
   "cell_type": "code",
   "execution_count": 554,
   "metadata": {},
   "outputs": [
    {
     "data": {
      "text/plain": [
       "2462"
      ]
     },
     "execution_count": 554,
     "metadata": {},
     "output_type": "execute_result"
    }
   ],
   "source": [
    "dev_df[data_scientist]['DevType'].count()"
   ]
  },
  {
   "cell_type": "code",
   "execution_count": 555,
   "metadata": {},
   "outputs": [
    {
     "name": "stderr",
     "output_type": "stream",
     "text": [
      "/Users/judebuenaseda/.pyenv/versions/3.8.2/lib/python3.8/site-packages/pandas/core/frame.py:3990: SettingWithCopyWarning: \n",
      "A value is trying to be set on a copy of a slice from a DataFrame\n",
      "\n",
      "See the caveats in the documentation: https://pandas.pydata.org/pandas-docs/stable/user_guide/indexing.html#returning-a-view-versus-a-copy\n",
      "  return super().drop(\n"
     ]
    }
   ],
   "source": [
    "dev_df.drop(columns=['Employment', 'EduOther', 'CompTotal', 'CompFreq', 'YearsCode'], inplace=True)"
   ]
  },
  {
   "cell_type": "code",
   "execution_count": 556,
   "metadata": {
    "scrolled": false
   },
   "outputs": [
    {
     "data": {
      "text/html": [
       "<div>\n",
       "<style scoped>\n",
       "    .dataframe tbody tr th:only-of-type {\n",
       "        vertical-align: middle;\n",
       "    }\n",
       "\n",
       "    .dataframe tbody tr th {\n",
       "        vertical-align: top;\n",
       "    }\n",
       "\n",
       "    .dataframe thead th {\n",
       "        text-align: right;\n",
       "    }\n",
       "</style>\n",
       "<table border=\"1\" class=\"dataframe\">\n",
       "  <thead>\n",
       "    <tr style=\"text-align: right;\">\n",
       "      <th></th>\n",
       "      <th>Respondent</th>\n",
       "      <th>FullDev</th>\n",
       "      <th>Hobbyist</th>\n",
       "      <th>OpenSourcer</th>\n",
       "      <th>EdLevel</th>\n",
       "      <th>UndergradMajor</th>\n",
       "      <th>DevType</th>\n",
       "      <th>YearsCodePro</th>\n",
       "      <th>FizzBuzz</th>\n",
       "      <th>Salary</th>\n",
       "      <th>WorkWeekHrs</th>\n",
       "      <th>WorkRemote</th>\n",
       "      <th>LanguageWorkedWith</th>\n",
       "      <th>ITperson</th>\n",
       "      <th>Age</th>\n",
       "      <th>Gender</th>\n",
       "      <th>Ethnicity</th>\n",
       "      <th>num_language</th>\n",
       "    </tr>\n",
       "  </thead>\n",
       "  <tbody>\n",
       "    <tr>\n",
       "      <th>0</th>\n",
       "      <td>4</td>\n",
       "      <td>1</td>\n",
       "      <td>0</td>\n",
       "      <td>Never</td>\n",
       "      <td>Bachelor’s degree (BA, BS, B.Eng., etc.)</td>\n",
       "      <td>Computer science, computer engineering, or sof...</td>\n",
       "      <td>Developer, full-stack</td>\n",
       "      <td>1</td>\n",
       "      <td>0</td>\n",
       "      <td>61000.0</td>\n",
       "      <td>80.0</td>\n",
       "      <td>Less than once per month / Never</td>\n",
       "      <td>C;C++;C#;Python;SQL</td>\n",
       "      <td>SIGH</td>\n",
       "      <td>22.0</td>\n",
       "      <td>0</td>\n",
       "      <td>White or of European descent</td>\n",
       "      <td>5</td>\n",
       "    </tr>\n",
       "    <tr>\n",
       "      <th>1</th>\n",
       "      <td>13</td>\n",
       "      <td>1</td>\n",
       "      <td>1</td>\n",
       "      <td>Less than once a month but more than once per ...</td>\n",
       "      <td>Master’s degree (MA, MS, M.Eng., MBA, etc.)</td>\n",
       "      <td>Computer science, computer engineering, or sof...</td>\n",
       "      <td>Data or business analyst;Database administrato...</td>\n",
       "      <td>8</td>\n",
       "      <td>1</td>\n",
       "      <td>90000.0</td>\n",
       "      <td>40.0</td>\n",
       "      <td>All or almost all the time (I'm full-time remote)</td>\n",
       "      <td>Bash/Shell/PowerShell;HTML/CSS;JavaScript;PHP;...</td>\n",
       "      <td>Yes</td>\n",
       "      <td>28.0</td>\n",
       "      <td>0</td>\n",
       "      <td>White or of European descent</td>\n",
       "      <td>6</td>\n",
       "    </tr>\n",
       "    <tr>\n",
       "      <th>2</th>\n",
       "      <td>23</td>\n",
       "      <td>1</td>\n",
       "      <td>1</td>\n",
       "      <td>Less than once per year</td>\n",
       "      <td>Bachelor’s degree (BA, BS, B.Eng., etc.)</td>\n",
       "      <td>Information systems, information technology, o...</td>\n",
       "      <td>Developer, full-stack</td>\n",
       "      <td>1</td>\n",
       "      <td>0</td>\n",
       "      <td>69000.0</td>\n",
       "      <td>40.0</td>\n",
       "      <td>A few days each month</td>\n",
       "      <td>Bash/Shell/PowerShell;HTML/CSS;JavaScript;Pyth...</td>\n",
       "      <td>SIGH</td>\n",
       "      <td>22.0</td>\n",
       "      <td>0</td>\n",
       "      <td>Black or of African descent</td>\n",
       "      <td>6</td>\n",
       "    </tr>\n",
       "    <tr>\n",
       "      <th>3</th>\n",
       "      <td>32</td>\n",
       "      <td>1</td>\n",
       "      <td>0</td>\n",
       "      <td>Never</td>\n",
       "      <td>Associate degree</td>\n",
       "      <td>Information systems, information technology, o...</td>\n",
       "      <td>Developer, full-stack</td>\n",
       "      <td>2</td>\n",
       "      <td>0</td>\n",
       "      <td>1100000.0</td>\n",
       "      <td>37.0</td>\n",
       "      <td>Less than once per month / Never</td>\n",
       "      <td>Bash/Shell/PowerShell;HTML/CSS;JavaScript;PHP;...</td>\n",
       "      <td>SIGH</td>\n",
       "      <td>21.0</td>\n",
       "      <td>0</td>\n",
       "      <td>White or of European descent</td>\n",
       "      <td>5</td>\n",
       "    </tr>\n",
       "    <tr>\n",
       "      <th>4</th>\n",
       "      <td>35</td>\n",
       "      <td>1</td>\n",
       "      <td>0</td>\n",
       "      <td>Never</td>\n",
       "      <td>Bachelor’s degree (BA, BS, B.Eng., etc.)</td>\n",
       "      <td>Information systems, information technology, o...</td>\n",
       "      <td>Developer, front-end</td>\n",
       "      <td>14</td>\n",
       "      <td>0</td>\n",
       "      <td>80000.0</td>\n",
       "      <td>40.0</td>\n",
       "      <td>Less than once per month / Never</td>\n",
       "      <td>HTML/CSS;JavaScript</td>\n",
       "      <td>Fortunately, someone else has that title</td>\n",
       "      <td>35.0</td>\n",
       "      <td>1</td>\n",
       "      <td>Black or of African descent</td>\n",
       "      <td>2</td>\n",
       "    </tr>\n",
       "  </tbody>\n",
       "</table>\n",
       "</div>"
      ],
      "text/plain": [
       "   Respondent  FullDev  Hobbyist  \\\n",
       "0           4        1         0   \n",
       "1          13        1         1   \n",
       "2          23        1         1   \n",
       "3          32        1         0   \n",
       "4          35        1         0   \n",
       "\n",
       "                                         OpenSourcer  \\\n",
       "0                                              Never   \n",
       "1  Less than once a month but more than once per ...   \n",
       "2                            Less than once per year   \n",
       "3                                              Never   \n",
       "4                                              Never   \n",
       "\n",
       "                                       EdLevel  \\\n",
       "0     Bachelor’s degree (BA, BS, B.Eng., etc.)   \n",
       "1  Master’s degree (MA, MS, M.Eng., MBA, etc.)   \n",
       "2     Bachelor’s degree (BA, BS, B.Eng., etc.)   \n",
       "3                             Associate degree   \n",
       "4     Bachelor’s degree (BA, BS, B.Eng., etc.)   \n",
       "\n",
       "                                      UndergradMajor  \\\n",
       "0  Computer science, computer engineering, or sof...   \n",
       "1  Computer science, computer engineering, or sof...   \n",
       "2  Information systems, information technology, o...   \n",
       "3  Information systems, information technology, o...   \n",
       "4  Information systems, information technology, o...   \n",
       "\n",
       "                                             DevType  YearsCodePro  FizzBuzz  \\\n",
       "0                              Developer, full-stack             1         0   \n",
       "1  Data or business analyst;Database administrato...             8         1   \n",
       "2                              Developer, full-stack             1         0   \n",
       "3                              Developer, full-stack             2         0   \n",
       "4                               Developer, front-end            14         0   \n",
       "\n",
       "      Salary  WorkWeekHrs                                         WorkRemote  \\\n",
       "0    61000.0         80.0                   Less than once per month / Never   \n",
       "1    90000.0         40.0  All or almost all the time (I'm full-time remote)   \n",
       "2    69000.0         40.0                              A few days each month   \n",
       "3  1100000.0         37.0                   Less than once per month / Never   \n",
       "4    80000.0         40.0                   Less than once per month / Never   \n",
       "\n",
       "                                  LanguageWorkedWith  \\\n",
       "0                                C;C++;C#;Python;SQL   \n",
       "1  Bash/Shell/PowerShell;HTML/CSS;JavaScript;PHP;...   \n",
       "2  Bash/Shell/PowerShell;HTML/CSS;JavaScript;Pyth...   \n",
       "3  Bash/Shell/PowerShell;HTML/CSS;JavaScript;PHP;...   \n",
       "4                                HTML/CSS;JavaScript   \n",
       "\n",
       "                                   ITperson   Age Gender  \\\n",
       "0                                      SIGH  22.0      0   \n",
       "1                                       Yes  28.0      0   \n",
       "2                                      SIGH  22.0      0   \n",
       "3                                      SIGH  21.0      0   \n",
       "4  Fortunately, someone else has that title  35.0      1   \n",
       "\n",
       "                      Ethnicity  num_language  \n",
       "0  White or of European descent             5  \n",
       "1  White or of European descent             6  \n",
       "2   Black or of African descent             6  \n",
       "3  White or of European descent             5  \n",
       "4   Black or of African descent             2  "
      ]
     },
     "execution_count": 556,
     "metadata": {},
     "output_type": "execute_result"
    }
   ],
   "source": [
    "dev_df.head()"
   ]
  },
  {
   "cell_type": "code",
   "execution_count": 557,
   "metadata": {},
   "outputs": [],
   "source": [
    "salaries = dev_df['Salary']"
   ]
  },
  {
   "cell_type": "code",
   "execution_count": 558,
   "metadata": {
    "scrolled": true
   },
   "outputs": [
    {
     "data": {
      "image/png": "[encoded data removed]",
      "text/plain": [
       "<Figure size 432x288 with 1 Axes>"
      ]
     },
     "metadata": {},
     "output_type": "display_data"
    }
   ],
   "source": [
    "sns.set(style=\"whitegrid\")\n",
    "ax = sns.boxplot(x=salaries)"
   ]
  },
  {
   "cell_type": "code",
   "execution_count": 565,
   "metadata": {},
   "outputs": [
    {
     "data": {
      "text/plain": [
       "(37000.0, 275000.0)"
      ]
     },
     "execution_count": 565,
     "metadata": {},
     "output_type": "execute_result"
    }
   ],
   "source": [
    "first_quart = np.quantile(salaries, 0.25)\n",
    "mid_quart = np.quantile(salaries, 0.5)\n",
    "third_quart = np.quantile(salaries, 0.75)\n",
    "IQR = np.quantile(salaries, 0.75) - np.quantile(salaries, 0.25)\n",
    "Outlier_high = (IQR*1.5) + third_quart\n",
    "Outlier_low = (IQR*1.5) - first_quart\n",
    "Outlier_low, Outlier_high"
   ]
  },
  {
   "cell_type": "code",
   "execution_count": 566,
   "metadata": {},
   "outputs": [],
   "source": [
    "low = dev_df['Salary'] > Outlier_low\n",
    "high = dev_df['Salary'] < Outlier_high"
   ]
  },
  {
   "cell_type": "code",
   "execution_count": 567,
   "metadata": {},
   "outputs": [
    {
     "name": "stderr",
     "output_type": "stream",
     "text": [
      "<ipython-input-567-28d0f6f7258c>:2: UserWarning: Boolean Series key will be reindexed to match DataFrame index.\n",
      "  dev_df = dev_df[high]\n"
     ]
    }
   ],
   "source": [
    "dev_df = dev_df[low]\n",
    "dev_df = dev_df[high]"
   ]
  },
  {
   "cell_type": "code",
   "execution_count": 568,
   "metadata": {
    "scrolled": false
   },
   "outputs": [
    {
     "data": {
      "text/plain": [
       "<matplotlib.axes._subplots.AxesSubplot at 0x1390bfbe0>"
      ]
     },
     "execution_count": 568,
     "metadata": {},
     "output_type": "execute_result"
    },
    {
     "data": {
      "image/png": "[encoded data removed]",
      "text/plain": [
       "<Figure size 432x288 with 1 Axes>"
      ]
     },
     "metadata": {},
     "output_type": "display_data"
    }
   ],
   "source": [
    "dev_df['Salary'].plot(kind='hist')"
   ]
  },
  {
   "cell_type": "code",
   "execution_count": 569,
   "metadata": {},
   "outputs": [
    {
     "data": {
      "text/plain": [
       "(37600.0, 105000.0, 113170.0, 272313.0)"
      ]
     },
     "execution_count": 569,
     "metadata": {},
     "output_type": "execute_result"
    }
   ],
   "source": [
    "dev_df['Salary'].min(), dev_df['Salary'].median(), round(dev_df['Salary'].mean()), dev_df['Salary'].max()"
   ]
  },
  {
   "cell_type": "code",
   "execution_count": 570,
   "metadata": {},
   "outputs": [],
   "source": [
    "dev_df.to_csv('dev_df.csv')"
   ]
  },
  {
   "cell_type": "code",
   "execution_count": null,
   "metadata": {},
   "outputs": [],
   "source": []
  },
  {
   "cell_type": "code",
   "execution_count": null,
   "metadata": {
    "scrolled": true
   },
   "outputs": [],
   "source": []
  },
  {
   "cell_type": "code",
   "execution_count": 440,
   "metadata": {},
   "outputs": [],
   "source": []
  },
  {
   "cell_type": "code",
   "execution_count": null,
   "metadata": {},
   "outputs": [],
   "source": []
  },
  {
   "cell_type": "code",
   "execution_count": null,
   "metadata": {},
   "outputs": [],
   "source": []
  },
  {
   "cell_type": "code",
   "execution_count": null,
   "metadata": {},
   "outputs": [],
   "source": []
  }
 ],
 "metadata": {
  "kernelspec": {
   "display_name": "Python 3",
   "language": "python",
   "name": "python3"
  },
  "language_info": {
   "codemirror_mode": {
    "name": "ipython",
    "version": 3
   },
   "file_extension": ".py",
   "mimetype": "text/x-python",
   "name": "python",
   "nbconvert_exporter": "python",
   "pygments_lexer": "ipython3",
   "version": "3.8.2"
  }
 },
 "nbformat": 4,
 "nbformat_minor": 4
}
