{
 "cells": [
  {
   "cell_type": "code",
   "execution_count": 103,
   "metadata": {},
   "outputs": [],
   "source": [
    "import pandas as pd\n",
    "import matplotlib.pyplot as plt\n",
    "import seaborn as sns\n",
    "import numpy as np\n",
    "import statsmodels.api as sm\n",
    "from statsmodels.formula.api import ols\n",
    "from sklearn.model_selection import train_test_split\n",
    "from sklearn.linear_model import LinearRegression\n",
    "from sklearn.linear_model import Lasso\n",
    "from sklearn.preprocessing import StandardScaler\n",
    "from sklearn import metrics"
   ]
  },
  {
   "cell_type": "code",
   "execution_count": 104,
   "metadata": {},
   "outputs": [],
   "source": [
    "data = pd.read_csv('dev_df.csv', index_col=0)"
   ]
  },
  {
   "cell_type": "code",
   "execution_count": 105,
   "metadata": {
    "scrolled": true
   },
   "outputs": [
    {
     "data": {
      "text/html": [
       "<div>\n",
       "<style scoped>\n",
       "    .dataframe tbody tr th:only-of-type {\n",
       "        vertical-align: middle;\n",
       "    }\n",
       "\n",
       "    .dataframe tbody tr th {\n",
       "        vertical-align: top;\n",
       "    }\n",
       "\n",
       "    .dataframe thead th {\n",
       "        text-align: right;\n",
       "    }\n",
       "</style>\n",
       "<table border=\"1\" class=\"dataframe\">\n",
       "  <thead>\n",
       "    <tr style=\"text-align: right;\">\n",
       "      <th></th>\n",
       "      <th>Respondent</th>\n",
       "      <th>FullDev</th>\n",
       "      <th>Hobbyist</th>\n",
       "      <th>OpenSourcer</th>\n",
       "      <th>EdLevel</th>\n",
       "      <th>UndergradMajor</th>\n",
       "      <th>DevType</th>\n",
       "      <th>YearsCodePro</th>\n",
       "      <th>FizzBuzz</th>\n",
       "      <th>Salary</th>\n",
       "      <th>WorkWeekHrs</th>\n",
       "      <th>WorkRemote</th>\n",
       "      <th>LanguageWorkedWith</th>\n",
       "      <th>ITperson</th>\n",
       "      <th>Age</th>\n",
       "      <th>Gender</th>\n",
       "      <th>Ethnicity</th>\n",
       "      <th>num_language</th>\n",
       "    </tr>\n",
       "  </thead>\n",
       "  <tbody>\n",
       "    <tr>\n",
       "      <th>0</th>\n",
       "      <td>4</td>\n",
       "      <td>1</td>\n",
       "      <td>0</td>\n",
       "      <td>Never</td>\n",
       "      <td>Bachelor’s degree (BA, BS, B.Eng., etc.)</td>\n",
       "      <td>Computer science, computer engineering, or sof...</td>\n",
       "      <td>Developer, full-stack</td>\n",
       "      <td>1</td>\n",
       "      <td>0</td>\n",
       "      <td>61000.0</td>\n",
       "      <td>80.0</td>\n",
       "      <td>Less than once per month / Never</td>\n",
       "      <td>C;C++;C#;Python;SQL</td>\n",
       "      <td>SIGH</td>\n",
       "      <td>22.0</td>\n",
       "      <td>0</td>\n",
       "      <td>White or of European descent</td>\n",
       "      <td>5</td>\n",
       "    </tr>\n",
       "    <tr>\n",
       "      <th>1</th>\n",
       "      <td>13</td>\n",
       "      <td>1</td>\n",
       "      <td>1</td>\n",
       "      <td>Less than once a month but more than once per ...</td>\n",
       "      <td>Master’s degree (MA, MS, M.Eng., MBA, etc.)</td>\n",
       "      <td>Computer science, computer engineering, or sof...</td>\n",
       "      <td>Data or business analyst;Database administrato...</td>\n",
       "      <td>8</td>\n",
       "      <td>1</td>\n",
       "      <td>90000.0</td>\n",
       "      <td>40.0</td>\n",
       "      <td>All or almost all the time (I'm full-time remote)</td>\n",
       "      <td>Bash/Shell/PowerShell;HTML/CSS;JavaScript;PHP;...</td>\n",
       "      <td>Yes</td>\n",
       "      <td>28.0</td>\n",
       "      <td>0</td>\n",
       "      <td>White or of European descent</td>\n",
       "      <td>6</td>\n",
       "    </tr>\n",
       "    <tr>\n",
       "      <th>2</th>\n",
       "      <td>23</td>\n",
       "      <td>1</td>\n",
       "      <td>1</td>\n",
       "      <td>Less than once per year</td>\n",
       "      <td>Bachelor’s degree (BA, BS, B.Eng., etc.)</td>\n",
       "      <td>Information systems, information technology, o...</td>\n",
       "      <td>Developer, full-stack</td>\n",
       "      <td>1</td>\n",
       "      <td>0</td>\n",
       "      <td>69000.0</td>\n",
       "      <td>40.0</td>\n",
       "      <td>A few days each month</td>\n",
       "      <td>Bash/Shell/PowerShell;HTML/CSS;JavaScript;Pyth...</td>\n",
       "      <td>SIGH</td>\n",
       "      <td>22.0</td>\n",
       "      <td>0</td>\n",
       "      <td>Black or of African descent</td>\n",
       "      <td>6</td>\n",
       "    </tr>\n",
       "    <tr>\n",
       "      <th>4</th>\n",
       "      <td>35</td>\n",
       "      <td>1</td>\n",
       "      <td>0</td>\n",
       "      <td>Never</td>\n",
       "      <td>Bachelor’s degree (BA, BS, B.Eng., etc.)</td>\n",
       "      <td>Information systems, information technology, o...</td>\n",
       "      <td>Developer, front-end</td>\n",
       "      <td>14</td>\n",
       "      <td>0</td>\n",
       "      <td>80000.0</td>\n",
       "      <td>40.0</td>\n",
       "      <td>Less than once per month / Never</td>\n",
       "      <td>HTML/CSS;JavaScript</td>\n",
       "      <td>Fortunately, someone else has that title</td>\n",
       "      <td>35.0</td>\n",
       "      <td>1</td>\n",
       "      <td>Black or of African descent</td>\n",
       "      <td>2</td>\n",
       "    </tr>\n",
       "    <tr>\n",
       "      <th>5</th>\n",
       "      <td>39</td>\n",
       "      <td>1</td>\n",
       "      <td>1</td>\n",
       "      <td>Less than once per year</td>\n",
       "      <td>Bachelor’s degree (BA, BS, B.Eng., etc.)</td>\n",
       "      <td>Computer science, computer engineering, or sof...</td>\n",
       "      <td>Database administrator;Developer, back-end;Dev...</td>\n",
       "      <td>23</td>\n",
       "      <td>0</td>\n",
       "      <td>156000.0</td>\n",
       "      <td>50.0</td>\n",
       "      <td>Less than once per month / Never</td>\n",
       "      <td>C#;JavaScript;SQL;TypeScript</td>\n",
       "      <td>Also Yes</td>\n",
       "      <td>42.0</td>\n",
       "      <td>0</td>\n",
       "      <td>White or of European descent</td>\n",
       "      <td>4</td>\n",
       "    </tr>\n",
       "  </tbody>\n",
       "</table>\n",
       "</div>"
      ],
      "text/plain": [
       "   Respondent  FullDev  Hobbyist  \\\n",
       "0           4        1         0   \n",
       "1          13        1         1   \n",
       "2          23        1         1   \n",
       "4          35        1         0   \n",
       "5          39        1         1   \n",
       "\n",
       "                                         OpenSourcer  \\\n",
       "0                                              Never   \n",
       "1  Less than once a month but more than once per ...   \n",
       "2                            Less than once per year   \n",
       "4                                              Never   \n",
       "5                            Less than once per year   \n",
       "\n",
       "                                       EdLevel  \\\n",
       "0     Bachelor’s degree (BA, BS, B.Eng., etc.)   \n",
       "1  Master’s degree (MA, MS, M.Eng., MBA, etc.)   \n",
       "2     Bachelor’s degree (BA, BS, B.Eng., etc.)   \n",
       "4     Bachelor’s degree (BA, BS, B.Eng., etc.)   \n",
       "5     Bachelor’s degree (BA, BS, B.Eng., etc.)   \n",
       "\n",
       "                                      UndergradMajor  \\\n",
       "0  Computer science, computer engineering, or sof...   \n",
       "1  Computer science, computer engineering, or sof...   \n",
       "2  Information systems, information technology, o...   \n",
       "4  Information systems, information technology, o...   \n",
       "5  Computer science, computer engineering, or sof...   \n",
       "\n",
       "                                             DevType  YearsCodePro  FizzBuzz  \\\n",
       "0                              Developer, full-stack             1         0   \n",
       "1  Data or business analyst;Database administrato...             8         1   \n",
       "2                              Developer, full-stack             1         0   \n",
       "4                               Developer, front-end            14         0   \n",
       "5  Database administrator;Developer, back-end;Dev...            23         0   \n",
       "\n",
       "     Salary  WorkWeekHrs                                         WorkRemote  \\\n",
       "0   61000.0         80.0                   Less than once per month / Never   \n",
       "1   90000.0         40.0  All or almost all the time (I'm full-time remote)   \n",
       "2   69000.0         40.0                              A few days each month   \n",
       "4   80000.0         40.0                   Less than once per month / Never   \n",
       "5  156000.0         50.0                   Less than once per month / Never   \n",
       "\n",
       "                                  LanguageWorkedWith  \\\n",
       "0                                C;C++;C#;Python;SQL   \n",
       "1  Bash/Shell/PowerShell;HTML/CSS;JavaScript;PHP;...   \n",
       "2  Bash/Shell/PowerShell;HTML/CSS;JavaScript;Pyth...   \n",
       "4                                HTML/CSS;JavaScript   \n",
       "5                       C#;JavaScript;SQL;TypeScript   \n",
       "\n",
       "                                   ITperson   Age Gender  \\\n",
       "0                                      SIGH  22.0      0   \n",
       "1                                       Yes  28.0      0   \n",
       "2                                      SIGH  22.0      0   \n",
       "4  Fortunately, someone else has that title  35.0      1   \n",
       "5                                  Also Yes  42.0      0   \n",
       "\n",
       "                      Ethnicity  num_language  \n",
       "0  White or of European descent             5  \n",
       "1  White or of European descent             6  \n",
       "2   Black or of African descent             6  \n",
       "4   Black or of African descent             2  \n",
       "5  White or of European descent             4  "
      ]
     },
     "execution_count": 105,
     "metadata": {},
     "output_type": "execute_result"
    }
   ],
   "source": [
    "data.head()"
   ]
  },
  {
   "cell_type": "markdown",
   "metadata": {},
   "source": [
    "### Five Questions to Answer:\n",
    "\n",
    "1. Is there a strong relationship between your salary and your educational background?\n",
    "2. Is there a linear relationship between age and salary?\n",
    "3. Are there any statistical differences amongst the categories of being a fulldev and hobbyist?\n",
    "4. Does the number of langauges you know affect your salary?\n",
    "5. Does the amount of hours you work affect your income? What if you work remote?"
   ]
  },
  {
   "cell_type": "code",
   "execution_count": 106,
   "metadata": {
    "scrolled": true
   },
   "outputs": [],
   "source": [
    "corr = data.corr()"
   ]
  },
  {
   "cell_type": "code",
   "execution_count": 107,
   "metadata": {},
   "outputs": [
    {
     "data": {
      "image/png": "[encoded data removed]",
      "text/plain": [
       "<Figure size 792x648 with 2 Axes>"
      ]
     },
     "metadata": {},
     "output_type": "display_data"
    }
   ],
   "source": [
    "def CorrMtx(df, dropDuplicates = True):\n",
    "    # Exclude duplicate correlations by masking uper right values\n",
    "    if dropDuplicates:    \n",
    "        mask = np.zeros_like(df, dtype=np.bool)\n",
    "        mask[np.triu_indices_from(mask)] = True\n",
    "\n",
    "    # Set background color / chart style\n",
    "    sns.set_style(style = 'white')\n",
    "\n",
    "    # Set up  matplotlib figure\n",
    "    f, ax = plt.subplots(figsize=(11, 9))\n",
    "\n",
    "    # Add diverging colormap from red to blue\n",
    "    cmap = sns.diverging_palette(150, 10, as_cmap=True)\n",
    "    \n",
    "    # Draw correlation plot with or without duplicates\n",
    "    if dropDuplicates:\n",
    "        sns.heatmap(df, mask=mask, cmap=cmap, \n",
    "                square=True,\n",
    "                linewidth=.5, cbar_kws={\"shrink\": .5}, ax=ax)\n",
    "    else:\n",
    "        sns.heatmap(df, cmap=cmap, \n",
    "                square=True,\n",
    "                linewidth=.5, cbar_kws={\"shrink\": .5}, ax=ax)\n",
    "\n",
    "CorrMtx(corr, dropDuplicates = True)"
   ]
  },
  {
   "cell_type": "markdown",
   "metadata": {},
   "source": [
    "### Data Viz #0\n",
    "\n",
    "histograph of salaries"
   ]
  },
  {
   "cell_type": "code",
   "execution_count": 108,
   "metadata": {
    "scrolled": true
   },
   "outputs": [
    {
     "data": {
      "text/plain": [
       "<matplotlib.axes._subplots.AxesSubplot at 0x12a505c40>"
      ]
     },
     "execution_count": 108,
     "metadata": {},
     "output_type": "execute_result"
    },
    {
     "data": {
      "image/png": "[encoded data removed]",
      "text/plain": [
       "<Figure size 432x288 with 1 Axes>"
      ]
     },
     "metadata": {},
     "output_type": "display_data"
    }
   ],
   "source": [
    "data['Salary'].plot(kind='hist')"
   ]
  },
  {
   "cell_type": "code",
   "execution_count": 109,
   "metadata": {},
   "outputs": [
    {
     "data": {
      "text/plain": [
       "(50400.0, 108000.0, 116194.0, 297000.0)"
      ]
     },
     "execution_count": 109,
     "metadata": {},
     "output_type": "execute_result"
    }
   ],
   "source": [
    "data['Salary'].min(), data['Salary'].median(), round(data['Salary'].mean()), data['Salary'].max()"
   ]
  },
  {
   "cell_type": "code",
   "execution_count": 110,
   "metadata": {},
   "outputs": [
    {
     "data": {
      "text/plain": [
       "(9640, 18)"
      ]
     },
     "execution_count": 110,
     "metadata": {},
     "output_type": "execute_result"
    }
   ],
   "source": [
    "data.shape"
   ]
  },
  {
   "cell_type": "markdown",
   "metadata": {},
   "source": [
    "### Data Viz #1 \n",
    "\n",
    "Lin reg between major features"
   ]
  },
  {
   "cell_type": "markdown",
   "metadata": {},
   "source": [
    "### Data Viz #2\n",
    "\n",
    "Gender & Ethnicity Distribution Graph"
   ]
  },
  {
   "cell_type": "markdown",
   "metadata": {},
   "source": [
    "### Data Viz #3\n",
    "\n",
    "Distribution of number of language"
   ]
  },
  {
   "cell_type": "markdown",
   "metadata": {},
   "source": [
    "## STAT TESTS"
   ]
  },
  {
   "cell_type": "code",
   "execution_count": null,
   "metadata": {},
   "outputs": [],
   "source": [
    "#Full Dev Statistic Value"
   ]
  },
  {
   "cell_type": "code",
   "execution_count": null,
   "metadata": {},
   "outputs": [],
   "source": [
    "#Gender Income Statistic Value"
   ]
  },
  {
   "cell_type": "code",
   "execution_count": null,
   "metadata": {},
   "outputs": [],
   "source": [
    "#Fizzbuzz statistic value"
   ]
  },
  {
   "cell_type": "code",
   "execution_count": null,
   "metadata": {},
   "outputs": [],
   "source": []
  },
  {
   "cell_type": "code",
   "execution_count": null,
   "metadata": {},
   "outputs": [],
   "source": []
  },
  {
   "cell_type": "code",
   "execution_count": null,
   "metadata": {},
   "outputs": [],
   "source": [
    "# Prepare data for model\n",
    "```python\n",
    "import pandas as pd\n",
    "import numpy as np\n",
    "# Read csv\n",
    "data = pd.read_csv('auto-mpg.csv') \n",
    "data['horsepower'].astype(str).astype(int)\n",
    "# Continuous features to scale \n",
    "acc = data['acceleration']\n",
    "logdisp = np.log(data['displacement'])\n",
    "loghorse = np.log(data['horsepower'])\n",
    "logweight= np.log(data['weight'])\n",
    "# Scale the features\n",
    "scaled_acc = (acc-min(acc))/(max(acc)-min(acc))\t\n",
    "scaled_disp = (logdisp-np.mean(logdisp))/np.sqrt(np.var(logdisp))\n",
    "scaled_horse = (loghorse-np.mean(loghorse))/(max(loghorse)-min(loghorse))\n",
    "scaled_weight= (logweight-np.mean(logweight))/np.sqrt(np.var(logweight))\n",
    "# Create a dataframe with scaled features\n",
    "data_fin = pd.DataFrame([])\n",
    "data_fin['acc'] = scaled_acc\n",
    "data_fin['disp'] = scaled_disp\n",
    "data_fin['horse'] = scaled_horse\n",
    "data_fin['weight'] = scaled_weight\n",
    "# Create dummies for categorical features\n",
    "cyl_dummies = pd.get_dummies(data['cylinders'], prefix='cyl', drop_first=True)\n",
    "yr_dummies = pd.get_dummies(data['model year'], prefix='yr', drop_first=True)\n",
    "orig_dummies = pd.get_dummies(data['origin'], prefix='orig', drop_first=True)\n",
    "mpg = data['mpg']\n",
    "# Concat with dataframe \n",
    "data_fin = pd.concat([mpg, data_fin, cyl_dummies, yr_dummies, orig_dummies], axis=1)\n",
    "```\n",
    "# Create model\n",
    "```python\n",
    "import statsmodels.api as sm\n",
    "from statsmodels.formula.api import ols\n",
    "formula = 'mpg ~ acceleration+weight+orig_2+orig_3'\n",
    "model = ols(formula=formula, data=data_ols).fit()\n",
    "outcome = 'mpg'\n",
    "predictors = data_ols.drop('mpg', axis=1)\n",
    "pred_sum = '+'.join(predictors.columns)\n",
    "formula = outcome + '~' + pred_sum\n",
    "model = ols(formula=formula, data=data_ols).fit()\n",
    "model.summary()\n",
    "```\n",
    "# Feature Selection\n",
    "```python\n",
    "\n",
    "```\n",
    "# Test models\n",
    "```python\n",
    "# Get a subset of the features and set to x and y\n",
    "data = pd.concat([mpg, scaled_acc, scaled_weight, orig_dummies], axis=1)\n",
    "y = data[['mpg']]\n",
    "X = data.drop(['mpg'], axis=1)\n",
    "\n",
    "from sklearn.model_selection import train_test_split\n",
    "X_train, X_test, y_train, y_test = train_test_split(X, y, test_size=0.2, random_state=42)\n",
    "\n",
    "from sklearn.linear_model import LinearRegression\n",
    "linreg = LinearRegression()\n",
    "linreg.fit(X_train, y_train)\n",
    "\n",
    "y_hat_train = linreg.predict(X_train)\n",
    "y_hat_test = linreg.predict(X_test)\n",
    "\n",
    "train_residuals = y_hat_train - y_train\n",
    "test_residuals = y_hat_test - y_test\n",
    "\n",
    "mse_train = np.sum((y_train-y_hat_train)**2)/len(y_train)\n",
    "mse_test = np.sum((y_test-y_hat_test)**2)/len(y_test)\n",
    "print('Train Mean Squarred Error:', mse_train)\n",
    "print('Test Mean Squarred Error:', mse_test)\n",
    "\n",
    "# Optional method\n",
    "from sklearn.metrics import mean_squared_error\n",
    "\n",
    "train_mse = mean_squared_error(y_train, y_hat_train)\n",
    "test_mse = mean_squared_error(y_test, y_hat_test)\n",
    "print('Train Mean Squarred Error:', train_mse)\n",
    "print('Test Mean Squarred Error:', test_mse)\n",
    "```\n",
    "\n",
    "# Cross Validation\n",
    "\n",
    "# Pickle\n",
    "\n"
   ]
  }
 ],
 "metadata": {
  "kernelspec": {
   "display_name": "Python 3",
   "language": "python",
   "name": "python3"
  },
  "language_info": {
   "codemirror_mode": {
    "name": "ipython",
    "version": 3
   },
   "file_extension": ".py",
   "mimetype": "text/x-python",
   "name": "python",
   "nbconvert_exporter": "python",
   "pygments_lexer": "ipython3",
   "version": "3.8.2"
  }
 },
 "nbformat": 4,
 "nbformat_minor": 4
}
